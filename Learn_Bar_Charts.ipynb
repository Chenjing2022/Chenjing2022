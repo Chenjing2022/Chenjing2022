{
  "nbformat": 4,
  "nbformat_minor": 0,
  "metadata": {
    "colab": {
      "name": "Final version- Learn Bar Charts.ipynb",
      "provenance": [],
      "collapsed_sections": [],
      "include_colab_link": true
    },
    "kernelspec": {
      "name": "python3",
      "display_name": "Python 3"
    },
    "language_info": {
      "name": "python"
    }
  },
  "cells": [
    {
      "cell_type": "markdown",
      "metadata": {
        "id": "view-in-github",
        "colab_type": "text"
      },
      "source": [
        "<a href=\"https://colab.research.google.com/github/Chenjing2022/Chenjing2022/blob/main/Learn_Bar_Charts.ipynb\" target=\"_parent\"><img src=\"https://colab.research.google.com/assets/colab-badge.svg\" alt=\"Open In Colab\"/></a>"
      ]
    },
    {
      "cell_type": "markdown",
      "metadata": {
        "id": "AVCxMzqnFpGg"
      },
      "source": [
        "# Using Python code to change the data for creating a chart\n",
        "---\n",
        "\n",
        "You have now looked at a dataset using Pandas, dropped rows of data with missing values (nodata) and changed datatypes.  Let's use the same dataset to practise creating a bar chart.\n",
        "\n",
        "## Setting up\n",
        "\n",
        "In the cell code below, write the code to:\n",
        "* import the pandas library\n",
        "* store the link (url)\n",
        "* create a dataframe from the dataset  (df= )\n",
        "* display the dataframe (df) info\n",
        "* drop the rows that have no data in the 'NO2 Level' column\n",
        "* change the datatype for the Date column to datetime\n",
        "* change the datatype for the NO2 Level column to float\n",
        "\n",
        "\n",
        "\n",
        "\n",
        "\n",
        "\n",
        " "
      ]
    },
    {
      "cell_type": "code",
      "metadata": {
        "id": "-TvPXkxFFmNJ",
        "outputId": "c7a2c686-b151-4497-c276-3297f82a98ed",
        "colab": {
          "base_uri": "https://localhost:8080/",
          "height": 874
        }
      },
      "source": [
        "# copy the 7 relevant code lines from the Electric Medway Learn 1 worksheet here\n",
        "import pandas as pd\n",
        "url = \"https://drive.google.com/uc?id=1_arR3BXakHSMSUkBfPkRleXBX1HZcJ5F\"\n",
        "df = pd.read_csv(url, skiprows=1)\n",
        "display (df)\n",
        "df.drop(df[df['NO2 Level'] == 'nodata'].index, inplace = True)\n",
        "df['Date'] = pd.to_datetime(df['Date'])\n",
        "display(df.info())\n",
        "df['NO2 Level'] = df['NO2 Level'].astype(float)\n",
        "print(df)"
      ],
      "execution_count": 1,
      "outputs": [
        {
          "output_type": "display_data",
          "data": {
            "text/html": [
              "\n",
              "  <div id=\"df-0d01b488-cbd1-4182-8f7c-c3417c1ce25e\">\n",
              "    <div class=\"colab-df-container\">\n",
              "      <div>\n",
              "<style scoped>\n",
              "    .dataframe tbody tr th:only-of-type {\n",
              "        vertical-align: middle;\n",
              "    }\n",
              "\n",
              "    .dataframe tbody tr th {\n",
              "        vertical-align: top;\n",
              "    }\n",
              "\n",
              "    .dataframe thead th {\n",
              "        text-align: right;\n",
              "    }\n",
              "</style>\n",
              "<table border=\"1\" class=\"dataframe\">\n",
              "  <thead>\n",
              "    <tr style=\"text-align: right;\">\n",
              "      <th></th>\n",
              "      <th>Date</th>\n",
              "      <th>Time</th>\n",
              "      <th>Day</th>\n",
              "      <th>NO2 Level</th>\n",
              "    </tr>\n",
              "  </thead>\n",
              "  <tbody>\n",
              "    <tr>\n",
              "      <th>0</th>\n",
              "      <td>01/01/2020</td>\n",
              "      <td>8:00:00</td>\n",
              "      <td>Mon</td>\n",
              "      <td>28.5</td>\n",
              "    </tr>\n",
              "    <tr>\n",
              "      <th>1</th>\n",
              "      <td>02/01/2020</td>\n",
              "      <td>8:00:00</td>\n",
              "      <td>Tues</td>\n",
              "      <td>17.5</td>\n",
              "    </tr>\n",
              "    <tr>\n",
              "      <th>2</th>\n",
              "      <td>03/01/2020</td>\n",
              "      <td>8:00:00</td>\n",
              "      <td>Wed</td>\n",
              "      <td>23.5</td>\n",
              "    </tr>\n",
              "    <tr>\n",
              "      <th>3</th>\n",
              "      <td>04/01/2020</td>\n",
              "      <td>8:00:00</td>\n",
              "      <td>Thurs</td>\n",
              "      <td>28.23</td>\n",
              "    </tr>\n",
              "    <tr>\n",
              "      <th>4</th>\n",
              "      <td>05/01/2020</td>\n",
              "      <td>8:00:00</td>\n",
              "      <td>Fri</td>\n",
              "      <td>24.53</td>\n",
              "    </tr>\n",
              "    <tr>\n",
              "      <th>...</th>\n",
              "      <td>...</td>\n",
              "      <td>...</td>\n",
              "      <td>...</td>\n",
              "      <td>...</td>\n",
              "    </tr>\n",
              "    <tr>\n",
              "      <th>86</th>\n",
              "      <td>27/03/2020</td>\n",
              "      <td>8:00:00</td>\n",
              "      <td>Wed</td>\n",
              "      <td>28.3</td>\n",
              "    </tr>\n",
              "    <tr>\n",
              "      <th>87</th>\n",
              "      <td>28/03/2020</td>\n",
              "      <td>8:00:00</td>\n",
              "      <td>Thurs</td>\n",
              "      <td>19.45</td>\n",
              "    </tr>\n",
              "    <tr>\n",
              "      <th>88</th>\n",
              "      <td>29/03/2020</td>\n",
              "      <td>8:00:00</td>\n",
              "      <td>Fri</td>\n",
              "      <td>21.04</td>\n",
              "    </tr>\n",
              "    <tr>\n",
              "      <th>89</th>\n",
              "      <td>30/03/2020</td>\n",
              "      <td>12:00:00</td>\n",
              "      <td>Sat</td>\n",
              "      <td>4.23</td>\n",
              "    </tr>\n",
              "    <tr>\n",
              "      <th>90</th>\n",
              "      <td>31/03/2020</td>\n",
              "      <td>12:00:00</td>\n",
              "      <td>Sun</td>\n",
              "      <td>1.59</td>\n",
              "    </tr>\n",
              "  </tbody>\n",
              "</table>\n",
              "<p>91 rows × 4 columns</p>\n",
              "</div>\n",
              "      <button class=\"colab-df-convert\" onclick=\"convertToInteractive('df-0d01b488-cbd1-4182-8f7c-c3417c1ce25e')\"\n",
              "              title=\"Convert this dataframe to an interactive table.\"\n",
              "              style=\"display:none;\">\n",
              "        \n",
              "  <svg xmlns=\"http://www.w3.org/2000/svg\" height=\"24px\"viewBox=\"0 0 24 24\"\n",
              "       width=\"24px\">\n",
              "    <path d=\"M0 0h24v24H0V0z\" fill=\"none\"/>\n",
              "    <path d=\"M18.56 5.44l.94 2.06.94-2.06 2.06-.94-2.06-.94-.94-2.06-.94 2.06-2.06.94zm-11 1L8.5 8.5l.94-2.06 2.06-.94-2.06-.94L8.5 2.5l-.94 2.06-2.06.94zm10 10l.94 2.06.94-2.06 2.06-.94-2.06-.94-.94-2.06-.94 2.06-2.06.94z\"/><path d=\"M17.41 7.96l-1.37-1.37c-.4-.4-.92-.59-1.43-.59-.52 0-1.04.2-1.43.59L10.3 9.45l-7.72 7.72c-.78.78-.78 2.05 0 2.83L4 21.41c.39.39.9.59 1.41.59.51 0 1.02-.2 1.41-.59l7.78-7.78 2.81-2.81c.8-.78.8-2.07 0-2.86zM5.41 20L4 18.59l7.72-7.72 1.47 1.35L5.41 20z\"/>\n",
              "  </svg>\n",
              "      </button>\n",
              "      \n",
              "  <style>\n",
              "    .colab-df-container {\n",
              "      display:flex;\n",
              "      flex-wrap:wrap;\n",
              "      gap: 12px;\n",
              "    }\n",
              "\n",
              "    .colab-df-convert {\n",
              "      background-color: #E8F0FE;\n",
              "      border: none;\n",
              "      border-radius: 50%;\n",
              "      cursor: pointer;\n",
              "      display: none;\n",
              "      fill: #1967D2;\n",
              "      height: 32px;\n",
              "      padding: 0 0 0 0;\n",
              "      width: 32px;\n",
              "    }\n",
              "\n",
              "    .colab-df-convert:hover {\n",
              "      background-color: #E2EBFA;\n",
              "      box-shadow: 0px 1px 2px rgba(60, 64, 67, 0.3), 0px 1px 3px 1px rgba(60, 64, 67, 0.15);\n",
              "      fill: #174EA6;\n",
              "    }\n",
              "\n",
              "    [theme=dark] .colab-df-convert {\n",
              "      background-color: #3B4455;\n",
              "      fill: #D2E3FC;\n",
              "    }\n",
              "\n",
              "    [theme=dark] .colab-df-convert:hover {\n",
              "      background-color: #434B5C;\n",
              "      box-shadow: 0px 1px 3px 1px rgba(0, 0, 0, 0.15);\n",
              "      filter: drop-shadow(0px 1px 2px rgba(0, 0, 0, 0.3));\n",
              "      fill: #FFFFFF;\n",
              "    }\n",
              "  </style>\n",
              "\n",
              "      <script>\n",
              "        const buttonEl =\n",
              "          document.querySelector('#df-0d01b488-cbd1-4182-8f7c-c3417c1ce25e button.colab-df-convert');\n",
              "        buttonEl.style.display =\n",
              "          google.colab.kernel.accessAllowed ? 'block' : 'none';\n",
              "\n",
              "        async function convertToInteractive(key) {\n",
              "          const element = document.querySelector('#df-0d01b488-cbd1-4182-8f7c-c3417c1ce25e');\n",
              "          const dataTable =\n",
              "            await google.colab.kernel.invokeFunction('convertToInteractive',\n",
              "                                                     [key], {});\n",
              "          if (!dataTable) return;\n",
              "\n",
              "          const docLinkHtml = 'Like what you see? Visit the ' +\n",
              "            '<a target=\"_blank\" href=https://colab.research.google.com/notebooks/data_table.ipynb>data table notebook</a>'\n",
              "            + ' to learn more about interactive tables.';\n",
              "          element.innerHTML = '';\n",
              "          dataTable['output_type'] = 'display_data';\n",
              "          await google.colab.output.renderOutput(dataTable, element);\n",
              "          const docLink = document.createElement('div');\n",
              "          docLink.innerHTML = docLinkHtml;\n",
              "          element.appendChild(docLink);\n",
              "        }\n",
              "      </script>\n",
              "    </div>\n",
              "  </div>\n",
              "  "
            ],
            "text/plain": [
              "          Date      Time    Day NO2 Level\n",
              "0   01/01/2020   8:00:00    Mon      28.5\n",
              "1   02/01/2020   8:00:00   Tues      17.5\n",
              "2   03/01/2020   8:00:00    Wed      23.5\n",
              "3   04/01/2020   8:00:00  Thurs     28.23\n",
              "4   05/01/2020   8:00:00    Fri     24.53\n",
              "..         ...       ...    ...       ...\n",
              "86  27/03/2020   8:00:00    Wed      28.3\n",
              "87  28/03/2020   8:00:00  Thurs     19.45\n",
              "88  29/03/2020   8:00:00    Fri     21.04\n",
              "89  30/03/2020  12:00:00    Sat      4.23\n",
              "90  31/03/2020  12:00:00    Sun      1.59\n",
              "\n",
              "[91 rows x 4 columns]"
            ]
          },
          "metadata": {}
        },
        {
          "output_type": "stream",
          "name": "stdout",
          "text": [
            "<class 'pandas.core.frame.DataFrame'>\n",
            "Int64Index: 90 entries, 0 to 90\n",
            "Data columns (total 4 columns):\n",
            " #   Column     Non-Null Count  Dtype         \n",
            "---  ------     --------------  -----         \n",
            " 0   Date       90 non-null     datetime64[ns]\n",
            " 1   Time       90 non-null     object        \n",
            " 2   Day        90 non-null     object        \n",
            " 3   NO2 Level  90 non-null     object        \n",
            "dtypes: datetime64[ns](1), object(3)\n",
            "memory usage: 3.5+ KB\n"
          ]
        },
        {
          "output_type": "display_data",
          "data": {
            "text/plain": [
              "None"
            ]
          },
          "metadata": {}
        },
        {
          "output_type": "stream",
          "name": "stdout",
          "text": [
            "         Date      Time    Day  NO2 Level\n",
            "0  2020-01-01   8:00:00    Mon      28.50\n",
            "1  2020-02-01   8:00:00   Tues      17.50\n",
            "2  2020-03-01   8:00:00    Wed      23.50\n",
            "3  2020-04-01   8:00:00  Thurs      28.23\n",
            "4  2020-05-01   8:00:00    Fri      24.53\n",
            "..        ...       ...    ...        ...\n",
            "86 2020-03-27   8:00:00    Wed      28.30\n",
            "87 2020-03-28   8:00:00  Thurs      19.45\n",
            "88 2020-03-29   8:00:00    Fri      21.04\n",
            "89 2020-03-30  12:00:00    Sat       4.23\n",
            "90 2020-03-31  12:00:00    Sun       1.59\n",
            "\n",
            "[90 rows x 4 columns]\n"
          ]
        }
      ]
    },
    {
      "cell_type": "markdown",
      "metadata": {
        "id": "DFkBpPeKi9f8"
      },
      "source": [
        "## Creating a Bar Chart\n",
        "\n",
        "Now you have linked to your dataset and your datatypes are correct for the Date and NO2 Levels, you can start to create a chart.  **Note**:  you must have run the code cell above before you can run the code cell below to make the chart.\n",
        "\n",
        "To start a chart you need to import a new library from Python (which must go before any code that needs to use it):\n",
        "```\n",
        "import matplotlib.pyplot as plt\n",
        "```\n",
        "In the code cell below, add the code to create a chart.  Every chart will need:\n",
        "\n",
        "1. A title\n",
        "2. A label for x axis \n",
        "3. A label for y axis\n",
        "4. A chart type and data\n",
        "5. A command to tell the chart to draw\n",
        "\n",
        "The codes for a bar chart showing the NO2 levels by date are:\n",
        "\n",
        "```\n",
        "1. plt.title('My chart title')\n",
        "2. plt.xlabel('x axis label')\n",
        "3. plt.ylabel('y axis label')\n",
        "4. x = df['Date']\n",
        "5. y = df['NO2 Level']\n",
        "6. plt.bar(x,y)\n",
        "7. plt.show()\n",
        "```\n",
        "**Note:** the code for line 6 always starts with plt.bar() and can include a width for the bars (which you can change, values depend on the number of bars), but the information in the brackets will depend on what data you are plotting.   \n",
        "\n",
        "Have a go at adding and running this code and see what your graph looks like, then change the title, x axis label and y axis label to something more appropriate.\n",
        "\n",
        "\n",
        "\n",
        "\n",
        "\n",
        "\n"
      ]
    },
    {
      "cell_type": "code",
      "metadata": {
        "id": "oXHNkyvhbOig",
        "colab": {
          "base_uri": "https://localhost:8080/",
          "height": 322
        },
        "outputId": "d73c3b4d-5529-4aa2-b50c-d38fd3ef4757"
      },
      "source": [
        "import matplotlib.pyplot as plt\n",
        "\n",
        "# add code below to create the chart\n",
        "plt.title('My chart title')\n",
        "plt.xlabel('Date')\n",
        "plt.ylabel('MO2 mg/m3')\n",
        "x = df['Date']\n",
        "y = df['NO2 Level']\n",
        "plt.bar(x,y)\n",
        "plt.xticks(rotation=45)\n",
        "plt.show()\n"
      ],
      "execution_count": 13,
      "outputs": [
        {
          "output_type": "display_data",
          "data": {
            "image/png": "[encoded data removed]",
            "text/plain": [
              "<Figure size 432x288 with 1 Axes>"
            ]
          },
          "metadata": {
            "needs_background": "light"
          }
        }
      ]
    },
    {
      "cell_type": "markdown",
      "metadata": {
        "id": "vUWhsF1ihcak"
      },
      "source": [
        "## Changing the data\n",
        "\n",
        "If it is difficult to read the labels, use label rotation so the label appears vertically or on a slant:\n",
        "\n",
        "```\n",
        "plt.xticks(rotation=45)\n",
        "```\n",
        "\n",
        "Add this line to your code in the cell above (just after the label naming)\n"
      ]
    },
    {
      "cell_type": "markdown",
      "metadata": {
        "id": "d8LrSIQjhkuM"
      },
      "source": [
        "## Using groupby() to Simplify Data for a new chart\n",
        "\n",
        "The first bar chart has far too many bars to be of any use.  Data can be grouped to allow it to be easier to understand in a chart.  If for example you had hundreds of records that included dates and there were multiple entries for one month, it might be beneficial to calculate the maximum or minimum or average (mean or median) for an individual month.\n",
        "\n",
        "This dataset has a column called 'Day' with the days of the week that the measurements were taken.  For this exercise, we can group the data by Day and get the maximum NO2 level for all measurements on that particular day of the week (ie the highest measurement on a Friday).\n",
        "```\n",
        "y = df.groupby(['Day'])['NO2 Level'].max()\n",
        "plt.bar(y)\n",
        "```\n",
        "### Creating Labels\n",
        "\n",
        "A bar chart has x axis labels to show what each bar represents.  In this case, it will represent each different day in the Day column of your dataset (ie the days Mon to Sun, not repeated).  \n",
        "\n",
        "```\n",
        "x = df['Day'].unique()\n",
        "```\n",
        "\n",
        "In the code cell below:\n",
        "* create the new Month column \n",
        "* create a chart title \"NO2 highest levels for each day\"\n",
        "* create an x axis label \"Day of week\"\n",
        "* create a y axis label NO2 mg/m3\n",
        "* group the NO2 level data by Day, calculating the max (as above)\n",
        "* create the bar chart from labels list (x) and the grouped data (y), without giving a width for the bars\n",
        "* show the bar chart\n",
        "\n",
        "\n",
        "\n"
      ]
    },
    {
      "cell_type": "code",
      "metadata": {
        "id": "W8xSimyducP7",
        "colab": {
          "base_uri": "https://localhost:8080/",
          "height": 295
        },
        "outputId": "b7accfc2-d7a4-4507-bd64-14ab03496028"
      },
      "source": [
        "\n",
        "# clear out the previous chart\n",
        "x = df['Day'].unique()\n",
        "plt.title('NO2 highest levels for each day')\n",
        "plt.xlabel('Day of week')\n",
        "plt.ylabel('NO2 mg/m3')\n",
        "x = df['Date']\n",
        "y = df['NO2 Level']\n",
        "plt.bar(x,y)\n",
        "plt.show()\n",
        "\n",
        "\n",
        "\n",
        "# add code below to create the second chart\n"
      ],
      "execution_count": 14,
      "outputs": [
        {
          "output_type": "display_data",
          "data": {
            "image/png": "[encoded data removed]",
            "text/plain": [
              "<Figure size 432x288 with 1 Axes>"
            ]
          },
          "metadata": {
            "needs_background": "light"
          }
        }
      ]
    },
    {
      "cell_type": "markdown",
      "metadata": {
        "id": "MzRd2pjWx0F9"
      },
      "source": [
        "You have now learnt the basics of creating a bar chart using a dataset and the matplotlib.pyplot library.  To learn how to change the style of a chart further, look at the worksheet called [Learn Styling Charts](https://colab.research.google.com/drive/1pTb2VbP6Etnbd-nyIqLSZKU_mezUFr1A?usp=sharing)."
      ]
    }
  ]
}