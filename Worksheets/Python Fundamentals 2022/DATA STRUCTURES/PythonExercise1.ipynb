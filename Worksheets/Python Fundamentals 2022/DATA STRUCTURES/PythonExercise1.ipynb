{
  "nbformat": 4,
  "nbformat_minor": 0,
  "metadata": {
    "colab": {
      "name": "PythonExercise1.ipynb",
      "provenance": [],
      "include_colab_link": true
    },
    "kernelspec": {
      "name": "python3",
      "display_name": "Python 3"
    },
    "language_info": {
      "name": "python"
    }
  },
  "cells": [
    {
      "cell_type": "markdown",
      "metadata": {
        "id": "view-in-github",
        "colab_type": "text"
      },
      "source": [
        "<a href=\"https://colab.research.google.com/github/Chenjing2022/Chenjing2022/blob/main/PythonExercise1.ipynb\" target=\"_parent\"><img src=\"https://colab.research.google.com/assets/colab-badge.svg\" alt=\"Open In Colab\"/></a>"
      ]
    },
    {
      "cell_type": "markdown",
      "source": [
        "1A. Write a program to add the two numbers 9 and 13."
      ],
      "metadata": {
        "id": "Y9kDXsgJh-Xk"
      }
    },
    {
      "cell_type": "code",
      "execution_count": 10,
      "metadata": {
        "id": "9YN0LOPvhNSI",
        "outputId": "d5b061fc-61b4-48a0-ce0e-189118d105ef",
        "colab": {
          "base_uri": "https://localhost:8080/"
        }
      },
      "outputs": [
        {
          "output_type": "stream",
          "name": "stdout",
          "text": [
            "22\n"
          ]
        }
      ],
      "source": [
        "#Write program here\n",
        "def add_sum():\n",
        "    num1 = 9\n",
        "    num2 = 13\n",
        "    sum = num1 + num2\n",
        "    print(sum)\n",
        "add_sum()"
      ]
    },
    {
      "cell_type": "markdown",
      "source": [
        "1B. Write a python program to multiply the two numbers 4 and 5."
      ],
      "metadata": {
        "id": "7WS5GzyIiXO8"
      }
    },
    {
      "cell_type": "code",
      "source": [
        "#Write program here\n",
        "def multiply_number():\n",
        "    num1 = 4\n",
        "    num2 = 5\n",
        "    result = num1 * num2\n",
        "    print(result)\n",
        "multiply_number()"
      ],
      "metadata": {
        "id": "a4vrN63kich6",
        "outputId": "6aee97be-68c4-4152-8919-de3502c3611a",
        "colab": {
          "base_uri": "https://localhost:8080/"
        }
      },
      "execution_count": 15,
      "outputs": [
        {
          "output_type": "stream",
          "name": "stdout",
          "text": [
            "20\n"
          ]
        }
      ]
    },
    {
      "cell_type": "markdown",
      "source": [
        "1C. Write a program that calculates the annual salary of an employee after it increases by 10%. (Initial annual salary £42,000)"
      ],
      "metadata": {
        "id": "X61a4vTIi3oz"
      }
    },
    {
      "cell_type": "code",
      "source": [
        "#Write program here"
      ],
      "metadata": {
        "id": "Ipi3jrRGi8Yj"
      },
      "execution_count": null,
      "outputs": []
    },
    {
      "cell_type": "markdown",
      "source": [
        "2A. Write a python program that finds the volume of a cuboid with length 2m, width 3m and height 5m."
      ],
      "metadata": {
        "id": "E8ZB8jBSi8nb"
      }
    },
    {
      "cell_type": "code",
      "source": [
        "#Write program here"
      ],
      "metadata": {
        "id": "IZ5ro6s9jCx8"
      },
      "execution_count": null,
      "outputs": []
    },
    {
      "cell_type": "markdown",
      "source": [
        "2B. Write a program that finds the area of a circle that has a radius of 4m. (You can take pi as being 3.14)"
      ],
      "metadata": {
        "id": "mgfDFNxBjC78"
      }
    },
    {
      "cell_type": "code",
      "source": [
        "#Write program here"
      ],
      "metadata": {
        "id": "YMRx47ktjDD7"
      },
      "execution_count": null,
      "outputs": []
    },
    {
      "cell_type": "markdown",
      "source": [
        "2C. Write a program that finds the volume of a cone of radius 2m and height 5m. (You can take pi as being 3.14)"
      ],
      "metadata": {
        "id": "6lMyZAmzjDLN"
      }
    },
    {
      "cell_type": "code",
      "source": [
        "#Write program here"
      ],
      "metadata": {
        "id": "AX52qgBzjDTr"
      },
      "execution_count": null,
      "outputs": []
    },
    {
      "cell_type": "markdown",
      "source": [
        "2D. Write a python program that uses a loop to find the factorial of 5. "
      ],
      "metadata": {
        "id": "iSdhsrKLjMIb"
      }
    },
    {
      "cell_type": "code",
      "source": [
        "#Write program here"
      ],
      "metadata": {
        "id": "AAD9R7cfjKb0"
      },
      "execution_count": null,
      "outputs": []
    }
  ]
}