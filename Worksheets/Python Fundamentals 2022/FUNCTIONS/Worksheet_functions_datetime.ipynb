{
  "nbformat": 4,
  "nbformat_minor": 0,
  "metadata": {
    "colab": {
      "name": "Worksheet-functions-datetime.ipynb",
      "provenance": [],
      "collapsed_sections": [],
      "include_colab_link": true
    },
    "kernelspec": {
      "name": "python3",
      "display_name": "Python 3"
    },
    "language_info": {
      "name": "python"
    }
  },
  "cells": [
    {
      "cell_type": "markdown",
      "metadata": {
        "id": "view-in-github",
        "colab_type": "text"
      },
      "source": [
        "<a href=\"https://colab.research.google.com/github/Chenjing2022/Chenjing2022/blob/main/Worksheet_functions_datetime.ipynb\" target=\"_parent\"><img src=\"https://colab.research.google.com/assets/colab-badge.svg\" alt=\"Open In Colab\"/></a>"
      ]
    },
    {
      "cell_type": "markdown",
      "metadata": {
        "id": "7iQyKP-SQiw1"
      },
      "source": [
        "# User-defined functions using datetime library\n",
        "\n",
        "---\n"
      ]
    },
    {
      "cell_type": "markdown",
      "metadata": {
        "id": "Vi93h5I4QnKs"
      },
      "source": [
        "When working with dates and times, fairly common in data sets, we need to be able to extract certain bits of information.  \n",
        "\n",
        "In Python, as with other languages, dates and times are stored in a data structure that combines the two together and stores the information as a number of seconds since a start point (often 1st January 1900).  This is obviously a large number but every bit of information about a date can be extracted from it and used to give a wide range of information.  \n",
        "\n",
        "Have a go at the exercises below to use a selection of datetime functions and return a new bit of data from each, to be printed by the caller.\n",
        "\n",
        "Before you can use datetime functions you will need to import them. Import the datetime functions like this:\n",
        "\n",
        "`from datetime import datetime`  \n",
        "\n",
        "\n",
        "For more information about datetime functions visit [w3Schools-Python datetime](https://www.w3schools.com/python/python_datetime.asp) and [Python docs](https://docs.python.org/3/library/datetime.html)"
      ]
    },
    {
      "cell_type": "markdown",
      "metadata": {
        "id": "MIDLi7CNR034"
      },
      "source": [
        "\n",
        "### Exercise 1 - print current date and time\n",
        "\n",
        "Write a function that will return the date and time now.  The caller will print it.  \n",
        "\n",
        "*Hint:  the format has been added for you, the other exercises will follow a similar format.   Always remember to import datetime from datetime as shown below*"
      ]
    },
    {
      "cell_type": "code",
      "metadata": {
        "id": "gS6GJdXbQfHp",
        "colab": {
          "base_uri": "https://localhost:8080/"
        },
        "outputId": "470c8571-e2f8-4e62-b750-cd23693634ea"
      },
      "source": [
        "from datetime import datetime, timezone\n",
        "# add your function, called get_datetime_now() below here\n",
        "def get_datetime_now():\n",
        "  return datetime.now()\n",
        " \n",
        "now_date_time = get_datetime_now()\n",
        "print(now_date_time)"
      ],
      "execution_count": 46,
      "outputs": [
        {
          "output_type": "stream",
          "name": "stdout",
          "text": [
            "2022-01-20 21:38:39.985254\n"
          ]
        }
      ]
    },
    {
      "cell_type": "markdown",
      "metadata": {
        "id": "Yy24sL0bUtpF"
      },
      "source": [
        "---\n",
        "Exercise 2 - print the current year\n",
        "\n",
        "Write a function that will return the current year.  The caller will print the year."
      ]
    },
    {
      "cell_type": "code",
      "metadata": {
        "id": "YqlQqPIqUtyr",
        "colab": {
          "base_uri": "https://localhost:8080/"
        },
        "outputId": "455332cc-b81b-4e09-f8ad-7b83b428ee52"
      },
      "source": [
        "from datetime import datetime\n",
        "#def get_current_year():\n",
        "#  return datetime.year()\n",
        "\n",
        "current_year =  datetime.today().year\n",
        "print(current_year)\n",
        "\n",
        "\n"
      ],
      "execution_count": 2,
      "outputs": [
        {
          "output_type": "stream",
          "name": "stdout",
          "text": [
            "2022\n"
          ]
        }
      ]
    },
    {
      "cell_type": "markdown",
      "metadata": {
        "id": "FzSVCaJKV1O1"
      },
      "source": [
        "---\n",
        "### Exercise 3 - print the current day of the week\n",
        "\n",
        "Write a function that will return the current day of the week.  The caller will print it."
      ]
    },
    {
      "cell_type": "code",
      "metadata": {
        "id": "OP4ZIXBWV1Yj",
        "colab": {
          "base_uri": "https://localhost:8080/"
        },
        "outputId": "fac95b0c-afdf-4b41-d9e2-ba06588d1f79"
      },
      "source": [
        "from datetime import datetime\n",
        "#def day_of_the_week(): \n",
        " # return datetime.weekday()\n",
        "\n",
        "current_day = datetime.today()\n",
        "print(\"Day of the week: \", datetime.today().strftime(\"%A\"))"
      ],
      "execution_count": null,
      "outputs": [
        {
          "output_type": "stream",
          "name": "stdout",
          "text": [
            "Day of the week:  Wednesday\n"
          ]
        }
      ]
    },
    {
      "cell_type": "markdown",
      "metadata": {
        "id": "a8euCtdmWIDE"
      },
      "source": [
        "---\n",
        "### Exercise 4 - create a new date\n",
        "\n",
        "Write a function that will take 3 parameters, day, month, year (3 numbers that make a valid date) and will create, and return a new date.  The caller will print the date."
      ]
    },
    {
      "cell_type": "code",
      "metadata": {
        "id": "FbOFnTwnWILN",
        "colab": {
          "base_uri": "https://localhost:8080/"
        },
        "outputId": "ca718ea4-a262-4e95-c568-64f8168fa060"
      },
      "source": [
        "from datetime import datetime\n",
        "def date_to_check(day, month, year):\n",
        "  return datetime(year,month,day)\n",
        "\n",
        "date_to_check(19,1,2022)\n",
        "\n"
      ],
      "execution_count": null,
      "outputs": [
        {
          "output_type": "execute_result",
          "data": {
            "text/plain": [
              "datetime.datetime(2022, 1, 19, 0, 0)"
            ]
          },
          "metadata": {},
          "execution_count": 91
        }
      ]
    },
    {
      "cell_type": "markdown",
      "metadata": {
        "id": "f5SKVuE0WfcE"
      },
      "source": [
        "---\n",
        "### Exercise 5 - create a valid date\n",
        "\n",
        "Write a function that will take 3 parameters, day, month, year (3 numbers) and will:  \n",
        "*   check that the month is between 1 and 12  \n",
        "*   check that the day is valid for the month (e.g. if the month is 2, then the day must be between 1 and 28 (don't worry about leap years for the moment)  \n",
        "*   if the date is not valid, print an error message and return None (which the caller will print)  \n",
        "*   if the date is valid, store it in a new variable, return the variable and the caller will print it."
      ]
    },
    {
      "cell_type": "code",
      "metadata": {
        "id": "gclt-f9-XfdG",
        "colab": {
          "base_uri": "https://localhost:8080/"
        },
        "outputId": "3938efb2-b56f-4972-80bb-1c58d1222aff"
      },
      "source": [
        "from datetime import datetime\n",
        "\n",
        "def check_date(day, month, year):\n",
        "  if month >=1 and month <=12: # to check if month is valid\n",
        "    if month ==2: # to check February\n",
        "      if day >= 1 and day <=28:\n",
        "        dt = datetime (year, month, day)\n",
        "        return dt\n",
        "      else:\n",
        "        print(\"This date is not valid\")\n",
        "    elif month == 4 or month == 6 or month == 9 or month == 11:\n",
        "      if day >= 1 and day <=30:\n",
        "        dt = datetime (year, month, day)\n",
        "        return dt\n",
        "       \n",
        "      else:\n",
        "        print(\"This date is not valid\")\n",
        "  \n",
        "      \n",
        "    elif day >= 1 and day <=31:\n",
        "        dt = datetime (year, month, day)\n",
        "        return dt\n",
        "    else:\n",
        "      print(\"This date is not valid\")\n",
        "        \n",
        "  else:\n",
        "    print(\"This date is not valid\")\n",
        "    \n",
        "\n",
        "check_date(12,2,2015)\n"
      ],
      "execution_count": 5,
      "outputs": [
        {
          "output_type": "execute_result",
          "data": {
            "text/plain": [
              "datetime.datetime(2015, 2, 12, 0, 0)"
            ]
          },
          "metadata": {},
          "execution_count": 5
        }
      ]
    },
    {
      "cell_type": "markdown",
      "metadata": {
        "id": "js7fy2HWXfm2"
      },
      "source": [
        "\n",
        "### Exercise 6 - is it a leap year?\n",
        "\n",
        "Write a function that will take a date as a parameter (you will need to create the date variable before calling the function) and will determine if it is a leap year, returning True or False.\n",
        "\n",
        "*Hint:  a leap year is a year that is divisible by 4 but the centuries (1900, 2000, etc are only leap years if they are divisible by 400)*"
      ]
    },
    {
      "cell_type": "code",
      "metadata": {
        "id": "KY1jtf3lX_ps",
        "colab": {
          "base_uri": "https://localhost:8080/"
        },
        "outputId": "91e98ae1-9bcb-4231-b77a-47394850e2d3"
      },
      "source": [
        "from datetime import datetime\n",
        "def is_leap_year(date_to_check):\n",
        "  # add your code below here\n",
        "  year = date_to_check.year\n",
        "  if (year % 4) ==0:\n",
        "    if (year % 100) ==0:\n",
        "      if (year % 400) == 0:\n",
        "        return True\n",
        "      else:\n",
        "        return False\n",
        "  else:\n",
        "    return True \n",
        "check_date = datetime(1900, 12, 15)\n",
        "if is_leap_year(check_date):\n",
        "    print(check_date.strftime(\"%Y\"), \"is a leap year\")\n",
        "else:\n",
        "    print(check_date.strftime(\"%Y\"), \"is not a leap year\")\n",
        "is_leap_year(check_date)"
      ],
      "execution_count": null,
      "outputs": [
        {
          "output_type": "stream",
          "name": "stdout",
          "text": [
            "1900 is not a leap year\n"
          ]
        },
        {
          "output_type": "execute_result",
          "data": {
            "text/plain": [
              "False"
            ]
          },
          "metadata": {},
          "execution_count": 88
        }
      ]
    },
    {
      "cell_type": "markdown",
      "metadata": {
        "id": "9BuRDi08YAO0"
      },
      "source": [
        "---\n",
        "### Exercise 7 - display parts of date/time\n",
        "\n",
        "Write a function that will take a date and print from it the following:  \n",
        "*  given date and time  \n",
        "*  year (in full) \n",
        "*  month (as a number) \n",
        "*  month name \n",
        "*  week number of the year  \n",
        "*  weekday of the week (as a number)  \n",
        "*  day of year  \n",
        "*  day of the month  \n",
        "*  day of week (as a name)  \n",
        "\n",
        "*Hint:  see w3Schools for [strftime reference](https://www.w3schools.com/python/python_datetime.asp)*\n",
        "\n"
      ]
    },
    {
      "cell_type": "code",
      "metadata": {
        "id": "zl-37Ez9ahym",
        "colab": {
          "base_uri": "https://localhost:8080/"
        },
        "outputId": "833f3ca7-2aa2-4a6d-c0f4-8828855147c7"
      },
      "source": [
        "from datetime import datetime, timezone\n",
        "def date_to_check(day, month, year):\n",
        "  dt = datetime(year, month, day)\n",
        "  print(\"Current date and time: \", dt)\n",
        "  print(\"Cureent year: \", dt.strftime(\"%Y\"))\n",
        "  print(\"Month: \", dt.strftime(\"%m\"))\n",
        "  print(\"Month: \", dt.strftime(\"%B\"))\n",
        "  print(\"Week number of the year: \", dt.strftime(\"%U\"))\n",
        "  print(\"Weekday of the week: \", dt.strftime(\"%w\"))\n",
        "  print(\"Day of year: \", dt.strftime(\"%j\"))\n",
        "  print(\"Day of the month: \", dt.strftime(\"%d\"))\n",
        "  print(\"Day of week: \", dt.strftime(\"%A\"))\n",
        "date_to_check(20,1,2022)"
      ],
      "execution_count": 2,
      "outputs": [
        {
          "output_type": "stream",
          "name": "stdout",
          "text": [
            "Current date and time:  2022-01-20 00:00:00\n",
            "Cureent year:  2022\n",
            "Month:  01\n",
            "Month:  January\n",
            "Week number of the year:  03\n",
            "Weekday of the week:  4\n",
            "Day of year:  020\n",
            "Day of the month:  20\n",
            "Day of week:  Thursday\n"
          ]
        }
      ]
    },
    {
      "cell_type": "markdown",
      "metadata": {
        "id": "_rpTIoSDaiBj"
      },
      "source": [
        "\n",
        "### Exercise 8 - next 6 days\n",
        "\n",
        "Write a function that will take a date and generate the dates of the following 6 days.  It should print each of the 6 days in the form:  \n",
        "\n",
        "DAY OF THE WEEK, MONTH NAME, FULL YEAR\n",
        "\n",
        "Hint:  to generate the days, use the function datetime.timedelta(), there is a good example of its use [here](https://www.geeksforgeeks.org/python-datetime-timedelta-function/)  "
      ]
    },
    {
      "cell_type": "code",
      "metadata": {
        "id": "1d-oXqLLb0vX",
        "colab": {
          "base_uri": "https://localhost:8080/"
        },
        "outputId": "44d8035d-18d0-4358-c660-20d81e610e18"
      },
      "source": [
        "from datetime import datetime, timedelta\n",
        "def date_to_check(day, month, year):\n",
        "  ini_time_for_now = datetime.now()\n",
        "  #get current time\n",
        "  print (\"initial_date: \", str(ini_time_for_now), ini_time_for_now.strftime(\"%A\"), ini_time_for_now.strftime(\"%B\") )\n",
        "\n",
        "  #Calculating future dates\n",
        "  future_date_after_1day = ini_time_for_now + \\\n",
        "                         timedelta(days = 1)\n",
        "  future_date_after_2days = ini_time_for_now + \\\n",
        "                         timedelta(days = 2)\n",
        "  future_date_after_3days = ini_time_for_now + \\\n",
        "                         timedelta(days = 3)\n",
        "  future_date_after_4days = ini_time_for_now + \\\n",
        "                         timedelta(days = 4)\n",
        "  future_date_after_5days = ini_time_for_now + \\\n",
        "                         timedelta(days = 5)\n",
        "  future_date_after_6days = ini_time_for_now + \\\n",
        "                         timedelta(days = 6)\n",
        "  #printing calculated future_dates\n",
        "  print(\"future_date_after_1day:\", str(future_date_after_1day), future_date_after_1day.strftime(\"%A\"), future_date_after_1day.strftime(\"%B\"))\n",
        "  print(\"future_date_after_2days:\", str(future_date_after_2days), future_date_after_2days.strftime(\"%A\"), future_date_after_2days.strftime(\"%B\"))\n",
        "  print(\"future_date_after_3days:\", str(future_date_after_3days), future_date_after_3days.strftime(\"%A\"), future_date_after_3days.strftime(\"%B\"))\n",
        "  print(\"future_date_after_4days:\", str(future_date_after_4days), future_date_after_4days.strftime(\"%A\"), future_date_after_4days.strftime(\"%B\"))\n",
        "  print(\"future_date_after_5days:\", str(future_date_after_5days), future_date_after_5days.strftime(\"%A\"), future_date_after_5days.strftime(\"%B\"))\n",
        "  print(\"future_date_after_6days:\", str(future_date_after_6days), future_date_after_6days.strftime(\"%A\"), future_date_after_6days.strftime(\"%B\"))\n",
        "  \n",
        "\n",
        "date_to_check(20,1,2022)\n"
      ],
      "execution_count": 105,
      "outputs": [
        {
          "output_type": "stream",
          "name": "stdout",
          "text": [
            "initial_date:  2022-01-20 22:51:45.776437 Thursday January\n",
            "future_date_after_1day: 2022-01-21 22:51:45.776437 Friday January\n",
            "future_date_after_2days: 2022-01-22 22:51:45.776437 Saturday January\n",
            "future_date_after_3days: 2022-01-23 22:51:45.776437 Sunday January\n",
            "future_date_after_4days: 2022-01-24 22:51:45.776437 Monday January\n",
            "future_date_after_5days: 2022-01-25 22:51:45.776437 Tuesday January\n",
            "future_date_after_6days: 2022-01-26 22:51:45.776437 Wednesday January\n"
          ]
        }
      ]
    },
    {
      "cell_type": "markdown",
      "metadata": {
        "id": "22Rhwx2Sb1Ey"
      },
      "source": [
        "---\n",
        "### Optional extra practice\n",
        "\n",
        "There are some similar and some more challenging exercises [here](https://www.w3resource.com/python-exercises/date-time-exercise/) if you would like to practice more. The site has its own editor."
      ]
    }
  ]
}