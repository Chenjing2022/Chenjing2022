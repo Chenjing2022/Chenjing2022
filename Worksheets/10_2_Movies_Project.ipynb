{
  "nbformat": 4,
  "nbformat_minor": 0,
  "metadata": {
    "colab": {
      "name": "10.2 Movies Project.ipynb",
      "provenance": [],
      "collapsed_sections": [],
      "include_colab_link": true
    },
    "kernelspec": {
      "name": "python3",
      "display_name": "Python 3"
    },
    "language_info": {
      "name": "python"
    }
  },
  "cells": [
    {
      "cell_type": "markdown",
      "metadata": {
        "id": "view-in-github",
        "colab_type": "text"
      },
      "source": [
        "<a href=\"https://colab.research.google.com/github/Chenjing2022/Chenjing2022-Data-Analysis-and-Python/blob/main/Worksheets/10_2_Movies_Project.ipynb\" target=\"_parent\"><img src=\"https://colab.research.google.com/assets/colab-badge.svg\" alt=\"Open In Colab\"/></a>"
      ]
    },
    {
      "cell_type": "markdown",
      "metadata": {
        "id": "iNinIL0w_DHu"
      },
      "source": [
        "# Movies Mini-project\n",
        "---\n",
        "\n",
        "In the previous worksheet you converted an SQL relational database to a single pandas dataframe and downloaded it. You will be analysing it today.\n",
        "\n",
        "If you were unable to download the file, there is a copy located here: \n",
        "\n",
        "\"https://github.com/lilaceri/Working-with-data-/blob/main/Data%20Sets%20for%20code%20divisio/movies.csv?raw=true\"\n",
        "\n"
      ]
    },
    {
      "cell_type": "markdown",
      "metadata": {
        "id": "TlOJOk3vMN2C"
      },
      "source": [
        "### Inspect the dataset \n",
        "---"
      ]
    },
    {
      "cell_type": "code",
      "metadata": {
        "id": "Le5KSKHY_BM9",
        "colab": {
          "base_uri": "https://localhost:8080/",
          "height": 423
        },
        "outputId": "ab0e0e3e-4c58-4143-fb6e-29eb3cf81bc6"
      },
      "source": [
        "import pandas as pd\n",
        "import numpy as np\n",
        "import seaborn as sns\n",
        "import matplotlib.pyplot as plt\n",
        "\n",
        "url = \"https://github.com/lilaceri/Working-with-data-/blob/main/Data%20Sets%20for%20code%20divisio/movies.csv?raw=true\"\n",
        "movies = pd.read_csv(url )\n",
        "movies"
      ],
      "execution_count": null,
      "outputs": [
        {
          "output_type": "execute_result",
          "data": {
            "text/plain": [
              "        Unnamed: 0 first_name    last_name  \\\n",
              "0                0        Les  12 Poissons   \n",
              "1                1    Lejaren     a'Hiller   \n",
              "2                2   Khairiya    A-Mansour   \n",
              "3                3    Ricardo     A. Solla   \n",
              "4                4    Ricardo     A. Solla   \n",
              "...            ...        ...          ...   \n",
              "368889      368889      Yusuf         Ünal   \n",
              "368890      368890      Ahmet        Ündag   \n",
              "368891      368891       Idil         Üner   \n",
              "368892      368892     Yüksel        Ünsal   \n",
              "368893      368893     Yüksel        Ünsal   \n",
              "\n",
              "                                      name  year  rank        genre  \n",
              "0                     Rondo pour trompette  2002   NaN        Short  \n",
              "1                 Sleep of Cyma Roget, The  1920   NaN        Drama  \n",
              "2                         Churches in Iraq  1988   NaN  Documentary  \n",
              "3                                 Foto, La  2001   NaN        Drama  \n",
              "4                                 Foto, La  2001   NaN        Short  \n",
              "...                                    ...   ...   ...          ...  \n",
              "368889                      Kalbim agliyor  1988   NaN        Drama  \n",
              "368890                 Ve gnese kan siradi  1972   NaN    Adventure  \n",
              "368891  Liebenden vom Hotel von Osman, Die  2001   8.5        Short  \n",
              "368892                   Evvel zaman iinde  1951   NaN    Animation  \n",
              "368893                   Evvel zaman iinde  1951   NaN       Comedy  \n",
              "\n",
              "[368894 rows x 7 columns]"
            ],
            "text/html": [
              "\n",
              "  <div id=\"df-b881f755-68a1-4f3c-ba6e-42ab97c64570\">\n",
              "    <div class=\"colab-df-container\">\n",
              "      <div>\n",
              "<style scoped>\n",
              "    .dataframe tbody tr th:only-of-type {\n",
              "        vertical-align: middle;\n",
              "    }\n",
              "\n",
              "    .dataframe tbody tr th {\n",
              "        vertical-align: top;\n",
              "    }\n",
              "\n",
              "    .dataframe thead th {\n",
              "        text-align: right;\n",
              "    }\n",
              "</style>\n",
              "<table border=\"1\" class=\"dataframe\">\n",
              "  <thead>\n",
              "    <tr style=\"text-align: right;\">\n",
              "      <th></th>\n",
              "      <th>Unnamed: 0</th>\n",
              "      <th>first_name</th>\n",
              "      <th>last_name</th>\n",
              "      <th>name</th>\n",
              "      <th>year</th>\n",
              "      <th>rank</th>\n",
              "      <th>genre</th>\n",
              "    </tr>\n",
              "  </thead>\n",
              "  <tbody>\n",
              "    <tr>\n",
              "      <th>0</th>\n",
              "      <td>0</td>\n",
              "      <td>Les</td>\n",
              "      <td>12 Poissons</td>\n",
              "      <td>Rondo pour trompette</td>\n",
              "      <td>2002</td>\n",
              "      <td>NaN</td>\n",
              "      <td>Short</td>\n",
              "    </tr>\n",
              "    <tr>\n",
              "      <th>1</th>\n",
              "      <td>1</td>\n",
              "      <td>Lejaren</td>\n",
              "      <td>a'Hiller</td>\n",
              "      <td>Sleep of Cyma Roget, The</td>\n",
              "      <td>1920</td>\n",
              "      <td>NaN</td>\n",
              "      <td>Drama</td>\n",
              "    </tr>\n",
              "    <tr>\n",
              "      <th>2</th>\n",
              "      <td>2</td>\n",
              "      <td>Khairiya</td>\n",
              "      <td>A-Mansour</td>\n",
              "      <td>Churches in Iraq</td>\n",
              "      <td>1988</td>\n",
              "      <td>NaN</td>\n",
              "      <td>Documentary</td>\n",
              "    </tr>\n",
              "    <tr>\n",
              "      <th>3</th>\n",
              "      <td>3</td>\n",
              "      <td>Ricardo</td>\n",
              "      <td>A. Solla</td>\n",
              "      <td>Foto, La</td>\n",
              "      <td>2001</td>\n",
              "      <td>NaN</td>\n",
              "      <td>Drama</td>\n",
              "    </tr>\n",
              "    <tr>\n",
              "      <th>4</th>\n",
              "      <td>4</td>\n",
              "      <td>Ricardo</td>\n",
              "      <td>A. Solla</td>\n",
              "      <td>Foto, La</td>\n",
              "      <td>2001</td>\n",
              "      <td>NaN</td>\n",
              "      <td>Short</td>\n",
              "    </tr>\n",
              "    <tr>\n",
              "      <th>...</th>\n",
              "      <td>...</td>\n",
              "      <td>...</td>\n",
              "      <td>...</td>\n",
              "      <td>...</td>\n",
              "      <td>...</td>\n",
              "      <td>...</td>\n",
              "      <td>...</td>\n",
              "    </tr>\n",
              "    <tr>\n",
              "      <th>368889</th>\n",
              "      <td>368889</td>\n",
              "      <td>Yusuf</td>\n",
              "      <td>Ünal</td>\n",
              "      <td>Kalbim agliyor</td>\n",
              "      <td>1988</td>\n",
              "      <td>NaN</td>\n",
              "      <td>Drama</td>\n",
              "    </tr>\n",
              "    <tr>\n",
              "      <th>368890</th>\n",
              "      <td>368890</td>\n",
              "      <td>Ahmet</td>\n",
              "      <td>Ündag</td>\n",
              "      <td>Ve gnese kan siradi</td>\n",
              "      <td>1972</td>\n",
              "      <td>NaN</td>\n",
              "      <td>Adventure</td>\n",
              "    </tr>\n",
              "    <tr>\n",
              "      <th>368891</th>\n",
              "      <td>368891</td>\n",
              "      <td>Idil</td>\n",
              "      <td>Üner</td>\n",
              "      <td>Liebenden vom Hotel von Osman, Die</td>\n",
              "      <td>2001</td>\n",
              "      <td>8.5</td>\n",
              "      <td>Short</td>\n",
              "    </tr>\n",
              "    <tr>\n",
              "      <th>368892</th>\n",
              "      <td>368892</td>\n",
              "      <td>Yüksel</td>\n",
              "      <td>Ünsal</td>\n",
              "      <td>Evvel zaman iinde</td>\n",
              "      <td>1951</td>\n",
              "      <td>NaN</td>\n",
              "      <td>Animation</td>\n",
              "    </tr>\n",
              "    <tr>\n",
              "      <th>368893</th>\n",
              "      <td>368893</td>\n",
              "      <td>Yüksel</td>\n",
              "      <td>Ünsal</td>\n",
              "      <td>Evvel zaman iinde</td>\n",
              "      <td>1951</td>\n",
              "      <td>NaN</td>\n",
              "      <td>Comedy</td>\n",
              "    </tr>\n",
              "  </tbody>\n",
              "</table>\n",
              "<p>368894 rows × 7 columns</p>\n",
              "</div>\n",
              "      <button class=\"colab-df-convert\" onclick=\"convertToInteractive('df-b881f755-68a1-4f3c-ba6e-42ab97c64570')\"\n",
              "              title=\"Convert this dataframe to an interactive table.\"\n",
              "              style=\"display:none;\">\n",
              "        \n",
              "  <svg xmlns=\"http://www.w3.org/2000/svg\" height=\"24px\"viewBox=\"0 0 24 24\"\n",
              "       width=\"24px\">\n",
              "    <path d=\"M0 0h24v24H0V0z\" fill=\"none\"/>\n",
              "    <path d=\"M18.56 5.44l.94 2.06.94-2.06 2.06-.94-2.06-.94-.94-2.06-.94 2.06-2.06.94zm-11 1L8.5 8.5l.94-2.06 2.06-.94-2.06-.94L8.5 2.5l-.94 2.06-2.06.94zm10 10l.94 2.06.94-2.06 2.06-.94-2.06-.94-.94-2.06-.94 2.06-2.06.94z\"/><path d=\"M17.41 7.96l-1.37-1.37c-.4-.4-.92-.59-1.43-.59-.52 0-1.04.2-1.43.59L10.3 9.45l-7.72 7.72c-.78.78-.78 2.05 0 2.83L4 21.41c.39.39.9.59 1.41.59.51 0 1.02-.2 1.41-.59l7.78-7.78 2.81-2.81c.8-.78.8-2.07 0-2.86zM5.41 20L4 18.59l7.72-7.72 1.47 1.35L5.41 20z\"/>\n",
              "  </svg>\n",
              "      </button>\n",
              "      \n",
              "  <style>\n",
              "    .colab-df-container {\n",
              "      display:flex;\n",
              "      flex-wrap:wrap;\n",
              "      gap: 12px;\n",
              "    }\n",
              "\n",
              "    .colab-df-convert {\n",
              "      background-color: #E8F0FE;\n",
              "      border: none;\n",
              "      border-radius: 50%;\n",
              "      cursor: pointer;\n",
              "      display: none;\n",
              "      fill: #1967D2;\n",
              "      height: 32px;\n",
              "      padding: 0 0 0 0;\n",
              "      width: 32px;\n",
              "    }\n",
              "\n",
              "    .colab-df-convert:hover {\n",
              "      background-color: #E2EBFA;\n",
              "      box-shadow: 0px 1px 2px rgba(60, 64, 67, 0.3), 0px 1px 3px 1px rgba(60, 64, 67, 0.15);\n",
              "      fill: #174EA6;\n",
              "    }\n",
              "\n",
              "    [theme=dark] .colab-df-convert {\n",
              "      background-color: #3B4455;\n",
              "      fill: #D2E3FC;\n",
              "    }\n",
              "\n",
              "    [theme=dark] .colab-df-convert:hover {\n",
              "      background-color: #434B5C;\n",
              "      box-shadow: 0px 1px 3px 1px rgba(0, 0, 0, 0.15);\n",
              "      filter: drop-shadow(0px 1px 2px rgba(0, 0, 0, 0.3));\n",
              "      fill: #FFFFFF;\n",
              "    }\n",
              "  </style>\n",
              "\n",
              "      <script>\n",
              "        const buttonEl =\n",
              "          document.querySelector('#df-b881f755-68a1-4f3c-ba6e-42ab97c64570 button.colab-df-convert');\n",
              "        buttonEl.style.display =\n",
              "          google.colab.kernel.accessAllowed ? 'block' : 'none';\n",
              "\n",
              "        async function convertToInteractive(key) {\n",
              "          const element = document.querySelector('#df-b881f755-68a1-4f3c-ba6e-42ab97c64570');\n",
              "          const dataTable =\n",
              "            await google.colab.kernel.invokeFunction('convertToInteractive',\n",
              "                                                     [key], {});\n",
              "          if (!dataTable) return;\n",
              "\n",
              "          const docLinkHtml = 'Like what you see? Visit the ' +\n",
              "            '<a target=\"_blank\" href=https://colab.research.google.com/notebooks/data_table.ipynb>data table notebook</a>'\n",
              "            + ' to learn more about interactive tables.';\n",
              "          element.innerHTML = '';\n",
              "          dataTable['output_type'] = 'display_data';\n",
              "          await google.colab.output.renderOutput(dataTable, element);\n",
              "          const docLink = document.createElement('div');\n",
              "          docLink.innerHTML = docLinkHtml;\n",
              "          element.appendChild(docLink);\n",
              "        }\n",
              "      </script>\n",
              "    </div>\n",
              "  </div>\n",
              "  "
            ]
          },
          "metadata": {},
          "execution_count": 1
        }
      ]
    },
    {
      "cell_type": "code",
      "source": [
        "def get_summary(movies):\n",
        "  # add code below which prints the first 5 rows of the dataset, the info and the numerical summary\n",
        "  return movies.head(), movies.info(), movies.describe()\n",
        "\n",
        "\n",
        "get_summary(movies)"
      ],
      "metadata": {
        "colab": {
          "base_uri": "https://localhost:8080/"
        },
        "id": "NBcnDQsD3omL",
        "outputId": "dbac118b-9c20-4be0-cbca-ea7ee7961f61"
      },
      "execution_count": null,
      "outputs": [
        {
          "output_type": "stream",
          "name": "stdout",
          "text": [
            "<class 'pandas.core.frame.DataFrame'>\n",
            "RangeIndex: 368894 entries, 0 to 368893\n",
            "Data columns (total 7 columns):\n",
            " #   Column      Non-Null Count   Dtype  \n",
            "---  ------      --------------   -----  \n",
            " 0   Unnamed: 0  368894 non-null  int64  \n",
            " 1   first_name  368894 non-null  object \n",
            " 2   last_name   368894 non-null  object \n",
            " 3   name        368894 non-null  object \n",
            " 4   year        368894 non-null  int64  \n",
            " 5   rank        113376 non-null  float64\n",
            " 6   genre       368894 non-null  object \n",
            "dtypes: float64(1), int64(2), object(4)\n",
            "memory usage: 19.7+ MB\n"
          ]
        },
        {
          "output_type": "execute_result",
          "data": {
            "text/plain": [
              "(   Unnamed: 0 first_name    last_name                      name  year  rank  \\\n",
              " 0           0        Les  12 Poissons      Rondo pour trompette  2002   NaN   \n",
              " 1           1    Lejaren     a'Hiller  Sleep of Cyma Roget, The  1920   NaN   \n",
              " 2           2   Khairiya    A-Mansour          Churches in Iraq  1988   NaN   \n",
              " 3           3    Ricardo     A. Solla                  Foto, La  2001   NaN   \n",
              " 4           4    Ricardo     A. Solla                  Foto, La  2001   NaN   \n",
              " \n",
              "          genre  \n",
              " 0        Short  \n",
              " 1        Drama  \n",
              " 2  Documentary  \n",
              " 3        Drama  \n",
              " 4        Short  , None,           Unnamed: 0           year           rank\n",
              " count  368894.000000  368894.000000  113376.000000\n",
              " mean   184446.500000    1969.442222       5.995124\n",
              " std    106490.669438      29.082051       1.540330\n",
              " min         0.000000    1888.000000       1.000000\n",
              " 25%     92223.250000    1947.000000       5.100000\n",
              " 50%    184446.500000    1976.000000       6.200000\n",
              " 75%    276669.750000    1996.000000       7.100000\n",
              " max    368893.000000    2007.000000       9.900000)"
            ]
          },
          "metadata": {},
          "execution_count": 2
        }
      ]
    },
    {
      "cell_type": "code",
      "source": [
        "# Anthoer short way to check the number of rows and columns\n",
        "movies.shape"
      ],
      "metadata": {
        "colab": {
          "base_uri": "https://localhost:8080/"
        },
        "id": "k5DKUIEV-kMY",
        "outputId": "03b59237-3f1c-4167-87ca-ec74245732ae"
      },
      "execution_count": null,
      "outputs": [
        {
          "output_type": "execute_result",
          "data": {
            "text/plain": [
              "(368894, 7)"
            ]
          },
          "metadata": {},
          "execution_count": 3
        }
      ]
    },
    {
      "cell_type": "code",
      "source": [
        "# Method 1 - to print all the columns of the Dataframe\n",
        "print(\"Columns of the DataFrame:\")\n",
        "print(movies.columns)"
      ],
      "metadata": {
        "colab": {
          "base_uri": "https://localhost:8080/"
        },
        "id": "DwV51RAjEhW2",
        "outputId": "07f0607d-59e7-4d97-8a85-4712a90d4d84"
      },
      "execution_count": null,
      "outputs": [
        {
          "output_type": "stream",
          "name": "stdout",
          "text": [
            "Columns of the DataFrame:\n",
            "Index(['Unnamed: 0', 'first_name', 'last_name', 'name', 'year', 'rank',\n",
            "       'genre'],\n",
            "      dtype='object')\n"
          ]
        }
      ]
    },
    {
      "cell_type": "code",
      "source": [
        "# Method 2 - to find all the vaiavble name of columns \n",
        "movies.columns.values"
      ],
      "metadata": {
        "colab": {
          "base_uri": "https://localhost:8080/"
        },
        "id": "kgMkU495Ln0B",
        "outputId": "9dc37321-796c-4e2a-ef45-03f6140754d6"
      },
      "execution_count": null,
      "outputs": [
        {
          "output_type": "execute_result",
          "data": {
            "text/plain": [
              "array(['Unnamed: 0', 'first_name', 'last_name', 'name', 'year', 'rank',\n",
              "       'genre'], dtype=object)"
            ]
          },
          "metadata": {},
          "execution_count": 5
        }
      ]
    },
    {
      "cell_type": "markdown",
      "metadata": {
        "id": "wIRDoCnxMRj8"
      },
      "source": [
        "### Clean the dataset \n",
        "---\n"
      ]
    },
    {
      "cell_type": "code",
      "source": [
        "# To count the number of missing values in each column\n",
        "movies.isnull().sum()"
      ],
      "metadata": {
        "colab": {
          "base_uri": "https://localhost:8080/"
        },
        "id": "Vq7hqsivB4Nl",
        "outputId": "8a07f719-9d44-48ab-e38c-e9c11d25fde5"
      },
      "execution_count": null,
      "outputs": [
        {
          "output_type": "execute_result",
          "data": {
            "text/plain": [
              "Unnamed: 0         0\n",
              "first_name         0\n",
              "last_name          0\n",
              "name               0\n",
              "year               0\n",
              "rank          255518\n",
              "genre              0\n",
              "dtype: int64"
            ]
          },
          "metadata": {},
          "execution_count": 6
        }
      ]
    },
    {
      "cell_type": "code",
      "metadata": {
        "id": "LgY60bsbMUc8",
        "colab": {
          "base_uri": "https://localhost:8080/"
        },
        "outputId": "aa5acebc-444f-480b-a1af-73ffdf0c5b9c"
      },
      "source": [
        "# To clean the null values in a cloumn in this case e,g in Rank, but not to drop the whole column as the column will be needed in this excerise \n",
        "df_drop = movies.dropna(subset=[\"rank\"])\n",
        "df_drop.info()"
      ],
      "execution_count": null,
      "outputs": [
        {
          "output_type": "stream",
          "name": "stdout",
          "text": [
            "<class 'pandas.core.frame.DataFrame'>\n",
            "Int64Index: 113376 entries, 77 to 368891\n",
            "Data columns (total 7 columns):\n",
            " #   Column      Non-Null Count   Dtype  \n",
            "---  ------      --------------   -----  \n",
            " 0   Unnamed: 0  113376 non-null  int64  \n",
            " 1   first_name  113376 non-null  object \n",
            " 2   last_name   113376 non-null  object \n",
            " 3   name        113376 non-null  object \n",
            " 4   year        113376 non-null  int64  \n",
            " 5   rank        113376 non-null  float64\n",
            " 6   genre       113376 non-null  object \n",
            "dtypes: float64(1), int64(2), object(4)\n",
            "memory usage: 6.9+ MB\n"
          ]
        }
      ]
    },
    {
      "cell_type": "markdown",
      "metadata": {
        "id": "00Vb1k3FMdei"
      },
      "source": [
        "### How many movies of each genre are there?\n",
        "---"
      ]
    },
    {
      "cell_type": "code",
      "source": [
        "#To check how many movies of each in genre\n",
        "genre_counts = df_drop.genre.value_counts()\n",
        "print(genre_counts)"
      ],
      "metadata": {
        "colab": {
          "base_uri": "https://localhost:8080/"
        },
        "id": "8LaQIk77yUG7",
        "outputId": "e6cd49c1-7ea8-4bd9-f741-26cfef494c78"
      },
      "execution_count": null,
      "outputs": [
        {
          "output_type": "stream",
          "name": "stdout",
          "text": [
            "Drama          24696\n",
            "Comedy         20633\n",
            "Short           9894\n",
            "Action          5873\n",
            "Romance         5476\n",
            "Thriller        5440\n",
            "Family          4845\n",
            "Animation       4727\n",
            "Crime           4488\n",
            "Documentary     4296\n",
            "Horror          4227\n",
            "Adventure       3932\n",
            "Sci-Fi          2699\n",
            "Musical         2491\n",
            "Western         2364\n",
            "Fantasy         2123\n",
            "Mystery         2012\n",
            "War             1837\n",
            "Music            908\n",
            "Film-Noir        415\n",
            "Name: genre, dtype: int64\n"
          ]
        }
      ]
    },
    {
      "cell_type": "code",
      "source": [
        "# To verify all the list of movies in genre\n",
        "index = genre_counts.index\n",
        "print(index)"
      ],
      "metadata": {
        "id": "cK3cC3v7J4Zh",
        "colab": {
          "base_uri": "https://localhost:8080/"
        },
        "outputId": "b9836797-a76a-4fd0-d13c-3c0f0be7cafe"
      },
      "execution_count": null,
      "outputs": [
        {
          "output_type": "stream",
          "name": "stdout",
          "text": [
            "Index(['Drama', 'Comedy', 'Short', 'Action', 'Romance', 'Thriller', 'Family',\n",
            "       'Animation', 'Crime', 'Documentary', 'Horror', 'Adventure', 'Sci-Fi',\n",
            "       'Musical', 'Western', 'Fantasy', 'Mystery', 'War', 'Music',\n",
            "       'Film-Noir'],\n",
            "      dtype='object')\n"
          ]
        }
      ]
    },
    {
      "cell_type": "markdown",
      "metadata": {
        "id": "itYpwLPpQnZM"
      },
      "source": [
        "### Which director has the highest ranked movies?\n",
        "---"
      ]
    },
    {
      "cell_type": "code",
      "source": [
        "# STEP 1: creating a new variable in the dataset called \"director\"\n",
        "df_drop[\"director\"] = df_drop[\"first_name\"] + \" \" + df_drop[\"last_name\"]\n",
        "df_drop.info()"
      ],
      "metadata": {
        "colab": {
          "base_uri": "https://localhost:8080/"
        },
        "id": "At1B1XrMp4zm",
        "outputId": "1d94a3e8-7459-494a-bdf4-62ccb6b801fd"
      },
      "execution_count": null,
      "outputs": [
        {
          "output_type": "stream",
          "name": "stdout",
          "text": [
            "<class 'pandas.core.frame.DataFrame'>\n",
            "Int64Index: 113376 entries, 77 to 368891\n",
            "Data columns (total 8 columns):\n",
            " #   Column      Non-Null Count   Dtype  \n",
            "---  ------      --------------   -----  \n",
            " 0   Unnamed: 0  113376 non-null  int64  \n",
            " 1   first_name  113376 non-null  object \n",
            " 2   last_name   113376 non-null  object \n",
            " 3   name        113376 non-null  object \n",
            " 4   year        113376 non-null  int64  \n",
            " 5   rank        113376 non-null  float64\n",
            " 6   genre       113376 non-null  object \n",
            " 7   director    113376 non-null  object \n",
            "dtypes: float64(1), int64(2), object(5)\n",
            "memory usage: 7.8+ MB\n"
          ]
        },
        {
          "output_type": "stream",
          "name": "stderr",
          "text": [
            "/usr/local/lib/python3.7/dist-packages/ipykernel_launcher.py:2: SettingWithCopyWarning: \n",
            "A value is trying to be set on a copy of a slice from a DataFrame.\n",
            "Try using .loc[row_indexer,col_indexer] = value instead\n",
            "\n",
            "See the caveats in the documentation: https://pandas.pydata.org/pandas-docs/stable/user_guide/indexing.html#returning-a-view-versus-a-copy\n",
            "  \n"
          ]
        }
      ]
    },
    {
      "cell_type": "code",
      "metadata": {
        "id": "dkW23Q27Qu0A",
        "colab": {
          "base_uri": "https://localhost:8080/"
        },
        "outputId": "0814d97d-d2a2-441f-bd25-0bc42cf0dd8c"
      },
      "source": [
        "#STEP 2: find the average ranking of each director\n",
        "director_average_rank = df_drop.groupby([\"director\"])[\"rank\"].mean()\n",
        "director_average_rank"
      ],
      "execution_count": null,
      "outputs": [
        {
          "output_type": "execute_result",
          "data": {
            "text/plain": [
              "director\n",
              "'Philthy' Phil Phillips    5.700000\n",
              "A. (I) Abramov             6.900000\n",
              "A. Bhimsingh               6.971429\n",
              "A. Charles Addessi         4.200000\n",
              "A. Dean Bell               5.333333\n",
              "                             ...   \n",
              "Ørjan Karlsen              8.300000\n",
              "Øyvind Sandberg            8.200000\n",
              "Øyvind Vennerød            5.800000\n",
              "Þorvaldur Kristinsson      7.600000\n",
              "Þráinn Bertelsson          6.266667\n",
              "Name: rank, Length: 22104, dtype: float64"
            ]
          },
          "metadata": {},
          "execution_count": 11
        }
      ]
    },
    {
      "cell_type": "code",
      "source": [
        "#Step 3: use sort_values( ) method to sort out ranking for each director from the highest to the lowest \n",
        "director_highest_rank = df_drop.groupby(\"director\")[[\"rank\"]].mean().sort_values([\"rank\"], ascending=False)\n",
        "print(director_highest_rank.head(10))"
      ],
      "metadata": {
        "colab": {
          "base_uri": "https://localhost:8080/"
        },
        "id": "UK-OyRSALoQJ",
        "outputId": "1f1c6320-a85a-4b6c-80a1-94322b60b3c7"
      },
      "execution_count": null,
      "outputs": [
        {
          "output_type": "stream",
          "name": "stdout",
          "text": [
            "                    rank\n",
            "director                \n",
            "Kirsten Tretbar      9.9\n",
            "Debs Tarrier         9.9\n",
            "Andrew Cappelletti   9.9\n",
            "Scott Barkan         9.9\n",
            "Matthew Crandall     9.9\n",
            "Gregg Zehentner      9.9\n",
            "Arünas Zebriünas     9.9\n",
            "Zack Resnicoff       9.9\n",
            "Luke S. Goljan       9.8\n",
            "Rubén Gámez          9.8\n"
          ]
        }
      ]
    },
    {
      "cell_type": "markdown",
      "source": [
        "From the above directors we can see that eight directos have a rating of point 9.9 which is highest rating per moive in this dataset.\n",
        "\n",
        "Reference link: https://www.analyticsvidhya.com/blog/2021/05/a-comprehensive-guide-to-data-analysis-using-pandas-hands-on-data-analysis-on-imdb-movies-data/\n"
      ],
      "metadata": {
        "id": "idWogXH1pZVw"
      }
    },
    {
      "cell_type": "code",
      "source": [
        "df_drop[\"rank\"].value_counts()"
      ],
      "metadata": {
        "colab": {
          "base_uri": "https://localhost:8080/"
        },
        "id": "kcj35UzK-wXj",
        "outputId": "7ecf7cca-b710-4365-f181-00c00344d8f7"
      },
      "execution_count": null,
      "outputs": [
        {
          "output_type": "execute_result",
          "data": {
            "text/plain": [
              "6.6    3364\n",
              "6.2    3333\n",
              "6.5    3201\n",
              "6.4    3179\n",
              "6.3    3109\n",
              "       ... \n",
              "9.7      87\n",
              "1.3      61\n",
              "9.9      55\n",
              "1.1      51\n",
              "1.2      36\n",
              "Name: rank, Length: 90, dtype: int64"
            ]
          },
          "metadata": {},
          "execution_count": 13
        }
      ]
    },
    {
      "cell_type": "code",
      "source": [
        "df_drop[\"year\"].value_counts()"
      ],
      "metadata": {
        "colab": {
          "base_uri": "https://localhost:8080/"
        },
        "id": "GySXljWXihCa",
        "outputId": "14dcb453-d8aa-4c41-be13-26eb49c50460"
      },
      "execution_count": null,
      "outputs": [
        {
          "output_type": "execute_result",
          "data": {
            "text/plain": [
              "2002    4846\n",
              "2001    4567\n",
              "2003    4483\n",
              "2000    4392\n",
              "1999    3810\n",
              "        ... \n",
              "1899      13\n",
              "1902      11\n",
              "1892      10\n",
              "1894       5\n",
              "1893       1\n",
              "Name: year, Length: 113, dtype: int64"
            ]
          },
          "metadata": {},
          "execution_count": 14
        }
      ]
    },
    {
      "cell_type": "markdown",
      "source": [
        "value_counts() is a quick but effective way of checking what values your variable takes. Here we see quickly that the rating score 9.9 was given 55 times!"
      ],
      "metadata": {
        "id": "Rc17Qjw7-1Xg"
      }
    },
    {
      "cell_type": "markdown",
      "metadata": {
        "id": "naiCl5kCQvS-"
      },
      "source": [
        "### How many movies have ranks of over 9?\n",
        "\n",
        "---\n"
      ]
    },
    {
      "cell_type": "code",
      "source": [
        "#Count rows where column is equal to a value:\n",
        "movies_counts = director_highest_rank[director_highest_rank[\"rank\"] > 9.0]\n",
        "print(movies_counts)"
      ],
      "metadata": {
        "colab": {
          "base_uri": "https://localhost:8080/"
        },
        "id": "tXKLVTreuaQv",
        "outputId": "f90bcc1a-f5df-454a-d788-7332417af72c"
      },
      "execution_count": null,
      "outputs": [
        {
          "output_type": "stream",
          "name": "stdout",
          "text": [
            "                      rank\n",
            "director                  \n",
            "Kirsten Tretbar      9.900\n",
            "Debs Tarrier         9.900\n",
            "Andrew Cappelletti   9.900\n",
            "Scott Barkan         9.900\n",
            "Matthew Crandall     9.900\n",
            "...                    ...\n",
            "Dinu Cocea           9.050\n",
            "Guy Hocquenghem      9.050\n",
            "Virgil Calotescu     9.050\n",
            "Nikolaus Geyrhalter  9.050\n",
            "Goran Gajic          9.025\n",
            "\n",
            "[379 rows x 1 columns]\n"
          ]
        }
      ]
    },
    {
      "cell_type": "markdown",
      "metadata": {
        "id": "qSM1LAZGQ32W"
      },
      "source": [
        "### Plot a bar chart of mean rank and genre\n",
        "---"
      ]
    },
    {
      "cell_type": "code",
      "source": [
        "data = df_drop.groupby([\"genre\"])[\"rank\"].mean()\n",
        "data\n",
        "labels = [\"Drama\", \"Comedy\", \"Short\", \"Action\", \"Romance\", \"Thriller\", \"Family\",\n",
        "       \"Animation\", \"Crime\", \"Documentary\", \"Horror\", \"Adventure\", \"Sci-Fi\",\n",
        "       \"Musical\", \"Western\", \"Fantasy\", \"Mystery\", \"War\", \"Music\",\n",
        "       \"Film-Noir\"]\n",
        "\n",
        "chart = sns.barplot(x = labels, y = data)\n",
        "chart.set_xlabel(\"Genre\") \n",
        "chart.set_ylabel(\"Mean_rank\") \n",
        "chart.set_xticklabels(labels, rotation=90)\n",
        "chart;\n"
      ],
      "metadata": {
        "colab": {
          "base_uri": "https://localhost:8080/",
          "height": 340
        },
        "id": "svC3Uue7qWpM",
        "outputId": "c1bee451-11de-41dc-85e2-9f0af65e9fa3"
      },
      "execution_count": null,
      "outputs": [
        {
          "output_type": "display_data",
          "data": {
            "text/plain": [
              "<Figure size 432x288 with 1 Axes>"
            ],
            "image/png": "[encoded data removed]"
          },
          "metadata": {
            "needs_background": "light"
          }
        }
      ]
    },
    {
      "cell_type": "markdown",
      "metadata": {
        "id": "O6srkKPnRbh_"
      },
      "source": [
        "### Plot a pie chart of how many movies of each genre there are \n",
        "---\n"
      ]
    },
    {
      "cell_type": "code",
      "source": [
        "genres= genre_counts.index\n",
        "data = df_drop.genre.value_counts()\n",
        "labels = data.keys()\n",
        "labels \n",
        "\n",
        "plt.pie(data, labels = labels,autopct='%1.0f%%')\n",
        "plt.xlabel('Genres')      \n",
        "plt.show()"
      ],
      "metadata": {
        "colab": {
          "base_uri": "https://localhost:8080/",
          "height": 262
        },
        "id": "tnfMd29WmbFh",
        "outputId": "8b93b361-d99e-4623-a520-5ced0b6e0720"
      },
      "execution_count": null,
      "outputs": [
        {
          "output_type": "display_data",
          "data": {
            "text/plain": [
              "<Figure size 432x288 with 1 Axes>"
            ],
            "image/png": "[encoded data removed]"
          },
          "metadata": {}
        }
      ]
    },
    {
      "cell_type": "markdown",
      "metadata": {
        "id": "Cm9HjL_K6bvo"
      },
      "source": [
        "### Plot a graph showing the mean Rank for each year "
      ]
    },
    {
      "cell_type": "code",
      "source": [
        "data = df_drop.groupby([\"year\"])[\"rank\"].mean()\n",
        "data\n",
        "#labels = df_drop[\"year\"].unique()\n",
        "labels = data.keys()\n",
        "\n",
        "chart = sns.barplot(x = labels, y = data)\n",
        "\n",
        "chart.set_xlabel(\"Year\") \n",
        "chart.set_ylabel(\"Rank\") \n",
        "chart.set_xticklabels(labels)\n",
        "chart"
      ],
      "metadata": {
        "id": "DenwwQ2kIoV_",
        "outputId": "af98ec27-757c-4570-f497-cafa754c538f",
        "colab": {
          "base_uri": "https://localhost:8080/",
          "height": 235
        }
      },
      "execution_count": null,
      "outputs": [
        {
          "output_type": "error",
          "ename": "NameError",
          "evalue": "ignored",
          "traceback": [
            "\u001b[0;31m---------------------------------------------------------------------------\u001b[0m",
            "\u001b[0;31mNameError\u001b[0m                                 Traceback (most recent call last)",
            "\u001b[0;32m<ipython-input-1-f1fb1bfcfd34>\u001b[0m in \u001b[0;36m<module>\u001b[0;34m()\u001b[0m\n\u001b[0;32m----> 1\u001b[0;31m \u001b[0mdata\u001b[0m \u001b[0;34m=\u001b[0m \u001b[0mdf_drop\u001b[0m\u001b[0;34m.\u001b[0m\u001b[0mgroupby\u001b[0m\u001b[0;34m(\u001b[0m\u001b[0;34m[\u001b[0m\u001b[0;34m\"year\"\u001b[0m\u001b[0;34m]\u001b[0m\u001b[0;34m)\u001b[0m\u001b[0;34m[\u001b[0m\u001b[0;34m\"rank\"\u001b[0m\u001b[0;34m]\u001b[0m\u001b[0;34m.\u001b[0m\u001b[0mmean\u001b[0m\u001b[0;34m(\u001b[0m\u001b[0;34m)\u001b[0m\u001b[0;34m\u001b[0m\u001b[0;34m\u001b[0m\u001b[0m\n\u001b[0m\u001b[1;32m      2\u001b[0m \u001b[0mdata\u001b[0m\u001b[0;34m\u001b[0m\u001b[0;34m\u001b[0m\u001b[0m\n\u001b[1;32m      3\u001b[0m \u001b[0;31m#labels = df_drop[\"year\"].unique()\u001b[0m\u001b[0;34m\u001b[0m\u001b[0;34m\u001b[0m\u001b[0;34m\u001b[0m\u001b[0m\n\u001b[1;32m      4\u001b[0m \u001b[0mlabels\u001b[0m \u001b[0;34m=\u001b[0m \u001b[0mdata\u001b[0m\u001b[0;34m.\u001b[0m\u001b[0mkeys\u001b[0m\u001b[0;34m(\u001b[0m\u001b[0;34m)\u001b[0m\u001b[0;34m\u001b[0m\u001b[0;34m\u001b[0m\u001b[0m\n\u001b[1;32m      5\u001b[0m \u001b[0;34m\u001b[0m\u001b[0m\n",
            "\u001b[0;31mNameError\u001b[0m: name 'df_drop' is not defined"
          ]
        }
      ]
    },
    {
      "cell_type": "markdown",
      "metadata": {
        "id": "FvzMjQ5X6oeU"
      },
      "source": [
        "### What else can you find out from this dataset?\n",
        "---\n",
        "Make a plan of 3 further things you can do to interrogate and analyse this dataset"
      ]
    },
    {
      "cell_type": "markdown",
      "metadata": {
        "id": "a46YOmLd64zb"
      },
      "source": [
        "Type your answer here  \n",
        "\n",
        "\n",
        "1.  Check if there are multiple movies with the same name, and if so, determine if they are actually duplicates.\n",
        "2. visual representation of the rank by using describle() method and creating a histogram chart. The hist() and describe() methods are in fact quite similar: One gives text output and the other gives its visual representation.\n",
        "2.  **Check for Correlation** want to see whether two columns of a dataset are connected. create a scatter plot with those two columns: "
      ]
    },
    {
      "cell_type": "markdown",
      "metadata": {
        "id": "es_Uyz_f6-1F"
      },
      "source": [
        "### Complete the tasks you have set out in the exercise above. \n",
        "---\n"
      ]
    },
    {
      "cell_type": "code",
      "source": [
        "df_drop.name.duplicated().sum()"
      ],
      "metadata": {
        "id": "JCgrBGNeVr24"
      },
      "execution_count": null,
      "outputs": []
    },
    {
      "cell_type": "code",
      "source": [
        "df_drop.duplicated().sum"
      ],
      "metadata": {
        "id": "TbL-DKJ-WU7y"
      },
      "execution_count": null,
      "outputs": []
    },
    {
      "cell_type": "code",
      "source": [
        "df_drop.loc[df_drop.duplicated(keep = False), :]"
      ],
      "metadata": {
        "id": "csvRNBB9Wdql"
      },
      "execution_count": null,
      "outputs": []
    },
    {
      "cell_type": "code",
      "metadata": {
        "id": "GY-HzjZb7L5q"
      },
      "source": [
        "# 1. check if there are multiple movies with the same name, and if so, determine if they are actually duplicates\n",
        "dupe_name = df_drop[df_drop.name.duplicated()].name\n",
        "df_drop[df_drop.name.isin(dupe_name)]"
      ],
      "execution_count": null,
      "outputs": []
    },
    {
      "cell_type": "markdown",
      "source": [
        "From the above result there are movies with the same name, however, they are under the different in genre, the condition for dropping duplicates it will be based on what is the purpose of using the dataset. "
      ],
      "metadata": {
        "id": "7nEFFG1TndO9"
      }
    },
    {
      "cell_type": "code",
      "source": [
        "# 2. visual representation of the rank by using describle() method and creating a histogram chart.\n",
        "movies[\"rank\"].describe()\n"
      ],
      "metadata": {
        "id": "4pCRsvw3AmIb"
      },
      "execution_count": null,
      "outputs": []
    },
    {
      "cell_type": "markdown",
      "source": [
        "Describle() method will display basic statisitics about rank colunms for instance in this case. From above the result it may also be able to conclude that the rating is slightly left-skewed by looking only at the text output of the .describe() method. The relevant data for this conclusion are:\n",
        "\n",
        "- The mean is slightly smaller than the median and\n",
        "- 25% of the data covers only until a rating of 5.1\n"
      ],
      "metadata": {
        "id": "YkwM3tQBBvSL"
      }
    },
    {
      "cell_type": "code",
      "source": [
        "df_drop['rank'].hist(bins=10)"
      ],
      "metadata": {
        "id": "BruRuc5Y_keh"
      },
      "execution_count": null,
      "outputs": []
    },
    {
      "cell_type": "markdown",
      "metadata": {
        "id": "pQV2NO8umBSk"
      },
      "source": [
        "# Reflection\n",
        "----\n",
        "\n",
        "## What skills have you demonstrated in completing this notebook?"
      ]
    },
    {
      "cell_type": "markdown",
      "metadata": {
        "id": "NUVvt2r0mCKq"
      },
      "source": [
        "*Your* answer: Inspected and cleaned the data, applied the stastisitics and charts for analisying the data.  "
      ]
    },
    {
      "cell_type": "markdown",
      "metadata": {
        "id": "SOrbWOuFmObq"
      },
      "source": [
        "## What caused you the most difficulty?"
      ]
    },
    {
      "cell_type": "markdown",
      "metadata": {
        "id": "G_eGng1GmO78"
      },
      "source": [
        "Your answers: By understanding some of the questions but aked Lila and understood this was an open mini project which was allowed us to do our own free style. I really enjoyed work throguh with this mini project. Pandas is very useful and powerful. "
      ]
    }
  ]
}