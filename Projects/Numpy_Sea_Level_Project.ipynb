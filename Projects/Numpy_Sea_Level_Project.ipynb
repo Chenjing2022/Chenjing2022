{
  "nbformat": 4,
  "nbformat_minor": 0,
  "metadata": {
    "colab": {
      "name": "Numpy Sea-Level-Project.ipynb",
      "provenance": [],
      "collapsed_sections": [],
      "include_colab_link": true
    },
    "kernelspec": {
      "name": "python3",
      "display_name": "Python 3"
    },
    "language_info": {
      "name": "python"
    }
  },
  "cells": [
    {
      "cell_type": "markdown",
      "metadata": {
        "id": "view-in-github",
        "colab_type": "text"
      },
      "source": [
        "<a href=\"https://colab.research.google.com/github/Chenjing2022/Chenjing2022/blob/main/Projects/Numpy_Sea_Level_Project.ipynb\" target=\"_parent\"><img src=\"https://colab.research.google.com/assets/colab-badge.svg\" alt=\"Open In Colab\"/></a>"
      ]
    },
    {
      "cell_type": "markdown",
      "source": [
        "**INTRODUCTION**\n",
        "\n",
        "\n",
        "\n",
        "In this project we will be using Numpy library to look for a correlation between time data and sea level rise. \n",
        "\n",
        "\n",
        "\n",
        "***Data Source***\n",
        "\n",
        "Global Average Absolute Sea Level Change, 1880-2014 from the US Environmental Protection Agency using data from CSIRO, 2015; NOAA, 2015. Please find here: [link text](https://datahub.io/core/sea-level-rise)\n",
        "\n",
        "\n",
        "The data describes annual sea levels from 1880 to 2013.  Measures are adjusted using two standards: Commonwealth Scientific and Industrial Research Organisation(CSIRO) and National Oceanic and Atmospheric Administration (NOAA).  Raw Data file: [link text](https://raw.githubusercontent.com/freeCodeCamp/boilerplate-sea-level-predictor/master/epa-sea-level.csv) \n",
        "\n",
        "\n",
        "The main idea for this worksheet we will analyse the dataset of the global average sea level change since 1880. We will also use the historical data to predict the sea level change through year 2050.\n",
        "\n",
        "\n",
        "For this worksheet I will carry out the following tasks: \n",
        "\n",
        "*  import all the libraries such as pandas, numpy, seaborn, matplotlib and scipy.stats and plotly for visualizing our data.  \n",
        "\n",
        "*  read the csv dataset containing data on sea-levels from the year 1880 to 2013 into a dataframe (df)\n",
        "\n",
        "*  use df.head() and df.info() to inspect the data and the column data types\n",
        "\n",
        "*   Use numpy function np.where() to calculate some statistics on the sea level array\n",
        "\n",
        "*  Plot a scatter plot by using the Graph Objects to show how the sea levels have changed over time. \n",
        "\n",
        "*   Use the linear regression function from scipy.stats to get the slope and y-intercept of the line of best fit. Plot the line of best fit over the top of the scatter plot. Make the line go through the year 2050 to predict the sea level rise in 2050.\n",
        "\n",
        "\n",
        "*   Plot a new line of best fit just using the data from year 2000 through the most recent year in the dataset. Make the line also go through the year 2050 to predict the sea level rise in 2050 if the rate of rise continues as it has since the year 2000.\n",
        "\n",
        "\n",
        "\n",
        "\n",
        "\n"
      ],
      "metadata": {
        "id": "ydfloUOtjYTq"
      }
    },
    {
      "cell_type": "markdown",
      "source": [
        "# **PART 1: Import libraries and dataset**"
      ],
      "metadata": {
        "id": "u0OxH4soaNro"
      }
    },
    {
      "cell_type": "markdown",
      "source": [
        "First, we will import all the libraries that will be needed for this project.   Then read the csv dataset containing data on sea-levels from the year 1880 to 2013 into a dataframe and sign it to a new varible named sea_level_df. "
      ],
      "metadata": {
        "id": "qBGDjKL7YUlc"
      }
    },
    {
      "cell_type": "code",
      "source": [
        "#Import libraries \n",
        "import pandas as pd # data processing, CSV file I/O (e.g. pd.read_csv)\n",
        "import seaborn as sns\n",
        "import numpy as np # linear algebra\n",
        "import matplotlib.pyplot as plt\n",
        "import plotly.express as px\n",
        "import plotly.graph_objects as go\n",
        "from scipy.stats import linregress\n",
        "\n",
        "# read the csv dataset containing data on sea-levels from the year 1880 to 2013 into a dataframe (df)\n",
        "sea_level_df = pd.read_csv(\"https://raw.githubusercontent.com/freeCodeCamp/boilerplate-sea-level-predictor/master/epa-sea-level.csv\")\n",
        "sea_level_df # print the dataset"
      ],
      "metadata": {
        "colab": {
          "base_uri": "https://localhost:8080/",
          "height": 424
        },
        "id": "0QJcbAO9VFfC",
        "outputId": "413f729d-8b7e-4750-dd46-8c01159afe88"
      },
      "execution_count": null,
      "outputs": [
        {
          "output_type": "execute_result",
          "data": {
            "text/plain": [
              "     Year  CSIRO Adjusted Sea Level  Lower Error Bound  Upper Error Bound  \\\n",
              "0    1880                  0.000000          -0.952756           0.952756   \n",
              "1    1881                  0.220472          -0.732283           1.173228   \n",
              "2    1882                 -0.440945          -1.346457           0.464567   \n",
              "3    1883                 -0.232283          -1.129921           0.665354   \n",
              "4    1884                  0.590551          -0.283465           1.464567   \n",
              "..    ...                       ...                ...                ...   \n",
              "129  2009                  8.586614           8.311024           8.862205   \n",
              "130  2010                  8.901575           8.618110           9.185039   \n",
              "131  2011                  8.964567           8.661417           9.267717   \n",
              "132  2012                  9.326772           8.992126           9.661417   \n",
              "133  2013                  8.980315           8.622047           9.338583   \n",
              "\n",
              "     NOAA Adjusted Sea Level  \n",
              "0                        NaN  \n",
              "1                        NaN  \n",
              "2                        NaN  \n",
              "3                        NaN  \n",
              "4                        NaN  \n",
              "..                       ...  \n",
              "129                 8.046354  \n",
              "130                 8.122973  \n",
              "131                 8.053065  \n",
              "132                 8.457058  \n",
              "133                 8.546648  \n",
              "\n",
              "[134 rows x 5 columns]"
            ],
            "text/html": [
              "\n",
              "  <div id=\"df-c739d0c0-fe69-435f-a718-e3165557bd31\">\n",
              "    <div class=\"colab-df-container\">\n",
              "      <div>\n",
              "<style scoped>\n",
              "    .dataframe tbody tr th:only-of-type {\n",
              "        vertical-align: middle;\n",
              "    }\n",
              "\n",
              "    .dataframe tbody tr th {\n",
              "        vertical-align: top;\n",
              "    }\n",
              "\n",
              "    .dataframe thead th {\n",
              "        text-align: right;\n",
              "    }\n",
              "</style>\n",
              "<table border=\"1\" class=\"dataframe\">\n",
              "  <thead>\n",
              "    <tr style=\"text-align: right;\">\n",
              "      <th></th>\n",
              "      <th>Year</th>\n",
              "      <th>CSIRO Adjusted Sea Level</th>\n",
              "      <th>Lower Error Bound</th>\n",
              "      <th>Upper Error Bound</th>\n",
              "      <th>NOAA Adjusted Sea Level</th>\n",
              "    </tr>\n",
              "  </thead>\n",
              "  <tbody>\n",
              "    <tr>\n",
              "      <th>0</th>\n",
              "      <td>1880</td>\n",
              "      <td>0.000000</td>\n",
              "      <td>-0.952756</td>\n",
              "      <td>0.952756</td>\n",
              "      <td>NaN</td>\n",
              "    </tr>\n",
              "    <tr>\n",
              "      <th>1</th>\n",
              "      <td>1881</td>\n",
              "      <td>0.220472</td>\n",
              "      <td>-0.732283</td>\n",
              "      <td>1.173228</td>\n",
              "      <td>NaN</td>\n",
              "    </tr>\n",
              "    <tr>\n",
              "      <th>2</th>\n",
              "      <td>1882</td>\n",
              "      <td>-0.440945</td>\n",
              "      <td>-1.346457</td>\n",
              "      <td>0.464567</td>\n",
              "      <td>NaN</td>\n",
              "    </tr>\n",
              "    <tr>\n",
              "      <th>3</th>\n",
              "      <td>1883</td>\n",
              "      <td>-0.232283</td>\n",
              "      <td>-1.129921</td>\n",
              "      <td>0.665354</td>\n",
              "      <td>NaN</td>\n",
              "    </tr>\n",
              "    <tr>\n",
              "      <th>4</th>\n",
              "      <td>1884</td>\n",
              "      <td>0.590551</td>\n",
              "      <td>-0.283465</td>\n",
              "      <td>1.464567</td>\n",
              "      <td>NaN</td>\n",
              "    </tr>\n",
              "    <tr>\n",
              "      <th>...</th>\n",
              "      <td>...</td>\n",
              "      <td>...</td>\n",
              "      <td>...</td>\n",
              "      <td>...</td>\n",
              "      <td>...</td>\n",
              "    </tr>\n",
              "    <tr>\n",
              "      <th>129</th>\n",
              "      <td>2009</td>\n",
              "      <td>8.586614</td>\n",
              "      <td>8.311024</td>\n",
              "      <td>8.862205</td>\n",
              "      <td>8.046354</td>\n",
              "    </tr>\n",
              "    <tr>\n",
              "      <th>130</th>\n",
              "      <td>2010</td>\n",
              "      <td>8.901575</td>\n",
              "      <td>8.618110</td>\n",
              "      <td>9.185039</td>\n",
              "      <td>8.122973</td>\n",
              "    </tr>\n",
              "    <tr>\n",
              "      <th>131</th>\n",
              "      <td>2011</td>\n",
              "      <td>8.964567</td>\n",
              "      <td>8.661417</td>\n",
              "      <td>9.267717</td>\n",
              "      <td>8.053065</td>\n",
              "    </tr>\n",
              "    <tr>\n",
              "      <th>132</th>\n",
              "      <td>2012</td>\n",
              "      <td>9.326772</td>\n",
              "      <td>8.992126</td>\n",
              "      <td>9.661417</td>\n",
              "      <td>8.457058</td>\n",
              "    </tr>\n",
              "    <tr>\n",
              "      <th>133</th>\n",
              "      <td>2013</td>\n",
              "      <td>8.980315</td>\n",
              "      <td>8.622047</td>\n",
              "      <td>9.338583</td>\n",
              "      <td>8.546648</td>\n",
              "    </tr>\n",
              "  </tbody>\n",
              "</table>\n",
              "<p>134 rows × 5 columns</p>\n",
              "</div>\n",
              "      <button class=\"colab-df-convert\" onclick=\"convertToInteractive('df-c739d0c0-fe69-435f-a718-e3165557bd31')\"\n",
              "              title=\"Convert this dataframe to an interactive table.\"\n",
              "              style=\"display:none;\">\n",
              "        \n",
              "  <svg xmlns=\"http://www.w3.org/2000/svg\" height=\"24px\"viewBox=\"0 0 24 24\"\n",
              "       width=\"24px\">\n",
              "    <path d=\"M0 0h24v24H0V0z\" fill=\"none\"/>\n",
              "    <path d=\"M18.56 5.44l.94 2.06.94-2.06 2.06-.94-2.06-.94-.94-2.06-.94 2.06-2.06.94zm-11 1L8.5 8.5l.94-2.06 2.06-.94-2.06-.94L8.5 2.5l-.94 2.06-2.06.94zm10 10l.94 2.06.94-2.06 2.06-.94-2.06-.94-.94-2.06-.94 2.06-2.06.94z\"/><path d=\"M17.41 7.96l-1.37-1.37c-.4-.4-.92-.59-1.43-.59-.52 0-1.04.2-1.43.59L10.3 9.45l-7.72 7.72c-.78.78-.78 2.05 0 2.83L4 21.41c.39.39.9.59 1.41.59.51 0 1.02-.2 1.41-.59l7.78-7.78 2.81-2.81c.8-.78.8-2.07 0-2.86zM5.41 20L4 18.59l7.72-7.72 1.47 1.35L5.41 20z\"/>\n",
              "  </svg>\n",
              "      </button>\n",
              "      \n",
              "  <style>\n",
              "    .colab-df-container {\n",
              "      display:flex;\n",
              "      flex-wrap:wrap;\n",
              "      gap: 12px;\n",
              "    }\n",
              "\n",
              "    .colab-df-convert {\n",
              "      background-color: #E8F0FE;\n",
              "      border: none;\n",
              "      border-radius: 50%;\n",
              "      cursor: pointer;\n",
              "      display: none;\n",
              "      fill: #1967D2;\n",
              "      height: 32px;\n",
              "      padding: 0 0 0 0;\n",
              "      width: 32px;\n",
              "    }\n",
              "\n",
              "    .colab-df-convert:hover {\n",
              "      background-color: #E2EBFA;\n",
              "      box-shadow: 0px 1px 2px rgba(60, 64, 67, 0.3), 0px 1px 3px 1px rgba(60, 64, 67, 0.15);\n",
              "      fill: #174EA6;\n",
              "    }\n",
              "\n",
              "    [theme=dark] .colab-df-convert {\n",
              "      background-color: #3B4455;\n",
              "      fill: #D2E3FC;\n",
              "    }\n",
              "\n",
              "    [theme=dark] .colab-df-convert:hover {\n",
              "      background-color: #434B5C;\n",
              "      box-shadow: 0px 1px 3px 1px rgba(0, 0, 0, 0.15);\n",
              "      filter: drop-shadow(0px 1px 2px rgba(0, 0, 0, 0.3));\n",
              "      fill: #FFFFFF;\n",
              "    }\n",
              "  </style>\n",
              "\n",
              "      <script>\n",
              "        const buttonEl =\n",
              "          document.querySelector('#df-c739d0c0-fe69-435f-a718-e3165557bd31 button.colab-df-convert');\n",
              "        buttonEl.style.display =\n",
              "          google.colab.kernel.accessAllowed ? 'block' : 'none';\n",
              "\n",
              "        async function convertToInteractive(key) {\n",
              "          const element = document.querySelector('#df-c739d0c0-fe69-435f-a718-e3165557bd31');\n",
              "          const dataTable =\n",
              "            await google.colab.kernel.invokeFunction('convertToInteractive',\n",
              "                                                     [key], {});\n",
              "          if (!dataTable) return;\n",
              "\n",
              "          const docLinkHtml = 'Like what you see? Visit the ' +\n",
              "            '<a target=\"_blank\" href=https://colab.research.google.com/notebooks/data_table.ipynb>data table notebook</a>'\n",
              "            + ' to learn more about interactive tables.';\n",
              "          element.innerHTML = '';\n",
              "          dataTable['output_type'] = 'display_data';\n",
              "          await google.colab.output.renderOutput(dataTable, element);\n",
              "          const docLink = document.createElement('div');\n",
              "          docLink.innerHTML = docLinkHtml;\n",
              "          element.appendChild(docLink);\n",
              "        }\n",
              "      </script>\n",
              "    </div>\n",
              "  </div>\n",
              "  "
            ]
          },
          "metadata": {},
          "execution_count": 1
        }
      ]
    },
    {
      "cell_type": "markdown",
      "source": [
        "Next, we will use df.head(), df.info() and df.describe() to inspect the data and the column data types. "
      ],
      "metadata": {
        "id": "7sgrWqgGX2U8"
      }
    },
    {
      "cell_type": "code",
      "source": [
        "def get_summary():\n",
        "\n",
        "\n",
        "  print(sea_level_df.head())# to print the first 5 rows of the dataset\n",
        "  print(sea_level_df.info()) # to to print a concise summary of the dataframe.  This method prints information about a DataFrame including the index dtype and column dtypes, non-null values and memory usage.\n",
        "  print(sea_level_df.describe()) # to get the numerical summary\n",
        "\n",
        "get_summary()"
      ],
      "metadata": {
        "id": "r1XUCWHV_Cj9",
        "colab": {
          "base_uri": "https://localhost:8080/"
        },
        "outputId": "15cbd67d-476c-4ce1-fcda-628f30c8088a"
      },
      "execution_count": null,
      "outputs": [
        {
          "output_type": "stream",
          "name": "stdout",
          "text": [
            "   Year  CSIRO Adjusted Sea Level  Lower Error Bound  Upper Error Bound  \\\n",
            "0  1880                  0.000000          -0.952756           0.952756   \n",
            "1  1881                  0.220472          -0.732283           1.173228   \n",
            "2  1882                 -0.440945          -1.346457           0.464567   \n",
            "3  1883                 -0.232283          -1.129921           0.665354   \n",
            "4  1884                  0.590551          -0.283465           1.464567   \n",
            "\n",
            "   NOAA Adjusted Sea Level  \n",
            "0                      NaN  \n",
            "1                      NaN  \n",
            "2                      NaN  \n",
            "3                      NaN  \n",
            "4                      NaN  \n",
            "<class 'pandas.core.frame.DataFrame'>\n",
            "RangeIndex: 134 entries, 0 to 133\n",
            "Data columns (total 5 columns):\n",
            " #   Column                    Non-Null Count  Dtype  \n",
            "---  ------                    --------------  -----  \n",
            " 0   Year                      134 non-null    int64  \n",
            " 1   CSIRO Adjusted Sea Level  134 non-null    float64\n",
            " 2   Lower Error Bound         134 non-null    float64\n",
            " 3   Upper Error Bound         134 non-null    float64\n",
            " 4   NOAA Adjusted Sea Level   21 non-null     float64\n",
            "dtypes: float64(4), int64(1)\n",
            "memory usage: 5.4 KB\n",
            "None\n",
            "              Year  CSIRO Adjusted Sea Level  Lower Error Bound  \\\n",
            "count   134.000000                134.000000         134.000000   \n",
            "mean   1946.500000                  3.650341           3.204666   \n",
            "std      38.826537                  2.485692           2.663781   \n",
            "min    1880.000000                 -0.440945          -1.346457   \n",
            "25%    1913.250000                  1.632874           1.078740   \n",
            "50%    1946.500000                  3.312992           2.915354   \n",
            "75%    1979.750000                  5.587598           5.329724   \n",
            "max    2013.000000                  9.326772           8.992126   \n",
            "\n",
            "       Upper Error Bound  NOAA Adjusted Sea Level  \n",
            "count         134.000000                21.000000  \n",
            "mean            4.096016                 7.363746  \n",
            "std             2.312581                 0.691038  \n",
            "min             0.464567                 6.297493  \n",
            "25%             2.240157                 6.848690  \n",
            "50%             3.710630                 7.488353  \n",
            "75%             5.845472                 7.907365  \n",
            "max             9.661417                 8.546648  \n"
          ]
        }
      ]
    },
    {
      "cell_type": "markdown",
      "source": [
        "**Observation:**\n",
        "\n",
        "\n",
        "*   sea_level_df.head() outputs the first five rows of our DataFrame by default, but we could also pass a number as well: df.head(10) would output the top ten rows, for example.\n",
        "\n",
        "*   sea_level_df.info() method prints information about the Dataframe. The information contains the number of columns, column labels, column data types, memory usage, range index, and the number of cells in each column (non-null values).\n",
        "\n",
        "\n",
        "*   sea_level_df.info() method output the total total number of rows are columns are 134 and 5. There are two datatypes, we have 4 float datatype columns and 1 integer cloumn in Year. Non-Null Count showed us there is 21 null values are missing in NOAA Adjusted Sea Level column.\n",
        "\n",
        "\n",
        "*   sea_level_df.describe() function in pandas used to get the statistics of each feature present in our dataset. Some of the information we get include count, max, min, standard deviation, median, mean, upper and lower quartile values in each of the columns. In this case there are total 134 observations , the mean of sea level is 1946.5, the max value is 9.32776 and the min is -0.440945.\n",
        "\n",
        "\n",
        "\n"
      ],
      "metadata": {
        "id": "WFo5X-dxXXxi"
      }
    },
    {
      "cell_type": "markdown",
      "source": [
        "# **PART 2: Use numpy function np.where() to calculate some statistics on the sea level array**\n",
        "---\n",
        "1.  Calculate some statistics on the level array such as the following: \n",
        "    *  mean\n",
        "    *  standard deviation\n",
        "    *  total \n",
        "\n",
        "2.  Use the fact that the arrays are aligned (e.g. the first number in the level array is linked to the first year in the year array and display:\n",
        "\n",
        "    *  the year with the biggest rise in level\n",
        "    *  the year with the lowest rise in level\n",
        "\n",
        "\n",
        "3.  Calculate the Pearson product-moment correlation coefficient between year and the rise in sea level.  "
      ],
      "metadata": {
        "id": "3cf1YPgnBSc2"
      }
    },
    {
      "cell_type": "code",
      "execution_count": null,
      "metadata": {
        "id": "8VWUtmK4YhoU",
        "colab": {
          "base_uri": "https://localhost:8080/"
        },
        "outputId": "271b4bfb-668f-46c6-dc34-04707abc594c"
      },
      "outputs": [
        {
          "output_type": "stream",
          "name": "stdout",
          "text": [
            "Mean is: 3.650340811880598 Standard_deviation is: 2.476399631426498 Total 489.1456687920001 Highest sea level is:  9.326771644 Lowest sea level is:  -0.440944881\n",
            "2012\n",
            "1882\n",
            "0.98\n"
          ]
        }
      ],
      "source": [
        "from numpy.ma.core import maximum_fill_value\n",
        "def get_levels(): \n",
        "  year = sea_level_df[\"Year\"].to_numpy(np.int64)\n",
        "  level =sea_level_df[\"CSIRO Adjusted Sea Level\"].to_numpy(np.float64) # adding CSIRO ajusted colum\n",
        "\n",
        "#Calculate mean, standard deviation, total\n",
        "  Average_level = level.mean()\n",
        "  Standard_deviation = level.std()\n",
        "  sum = level.sum()\n",
        "  Max = level.max()# highest sea level \n",
        "  Min = level.min() # lowest sea level\n",
        "  print(\"Mean is:\", Average_level, \"Standard_deviation is:\", Standard_deviation, \"Total\",sum, \"Highest sea level is: \", Max, \"Lowest sea level is: \",Min)\n",
        "\n",
        "\n",
        "  # the year with the biggest rise in level\n",
        "  higgest_sea_rise_year = np.where(sea_level_df == Max)[0][0]\n",
        "  #the year with the lowest rise in level\n",
        "  lowest_sea_rise_year = np.where(sea_level_df == Min)[0][0]\n",
        "  print(year[higgest_sea_rise_year])\n",
        "  print(year[lowest_sea_rise_year])\n",
        "\n",
        "\n",
        "  #Calculate correlation coefficien between year and the rise in sea level\n",
        "  coeff =np. corrcoef(year,level)\n",
        "  #print(coeff)\n",
        "  print(round(coeff[0][1],2)) # to round up to 2 decimal places\n",
        "  \n",
        "get_levels()\n"
      ]
    },
    {
      "cell_type": "markdown",
      "source": [
        "# **PART 3: Scatterplot of Global Average Absolute Sea Level Change from 1880 to 2013**"
      ],
      "metadata": {
        "id": "056bATIJ3xGT"
      }
    },
    {
      "cell_type": "markdown",
      "source": [
        "In this part we are going to plot a scatter plot by using the Graph Objects to show how the sea level has changed over time. Here we will use the \"Year\" column as the x-axis and the \" CSIRO Adjusted Sea Level\" as y-axis, and \"NOAA Adjusted Sea Level\" column as the second y-axis. \n",
        "\n"
      ],
      "metadata": {
        "id": "QBTeORdMWrqX"
      }
    },
    {
      "cell_type": "code",
      "source": [
        "def draw_plot(): \n",
        "\n",
        "  data = sea_level_df\n",
        "  x = sea_level_df[\"Year\"]\n",
        "  y = sea_level_df[\"CSIRO Adjusted Sea Level\"]\n",
        "  y = sea_level_df[\"NOAA Adjusted Sea Level\"]\n",
        "\n",
        "  fig = go.Figure()\n",
        "  #create the plot\n",
        "  fig.add_trace(go.Scatter(x=sea_level_df[\"Year\"], y=sea_level_df[\"CSIRO Adjusted Sea Level\"], name=\"CSIRO Adjusted Sea Level\")) \n",
        "  fig.add_trace(go.Scatter(x=sea_level_df[\"Year\"], y=sea_level_df[\"NOAA Adjusted Sea Level\"], name=\"NOAA Adjusted Sea Level\"))\n",
        "  # to add the title, xaxis & yaxis titles, and the to design the size for the graph\n",
        "  fig.update_layout(title=\"Global Average Absolute Sea Level Change from 1880 to 2013\",  xaxis_title= \"Year\",\n",
        "    yaxis_title =\"Cumulative Sea Level change(inches)\", width = 1000, height = 600)\n",
        "  fig.show()\n",
        "\n",
        "draw_plot()"
      ],
      "metadata": {
        "id": "TK38XjcIUFbB",
        "colab": {
          "base_uri": "https://localhost:8080/",
          "height": 616
        },
        "outputId": "1b17527f-c2aa-4cc8-9cb8-666864d389bb"
      },
      "execution_count": null,
      "outputs": [
        {
          "output_type": "display_data",
          "data": {
            "text/html": [
              "<html>\n",
              "<head><meta charset=\"utf-8\" /></head>\n",
              "<body>\n",
              "    <div>            <script src=\"https://cdnjs.cloudflare.com/ajax/libs/mathjax/2.7.5/MathJax.js?config=TeX-AMS-MML_SVG\"></script><script type=\"text/javascript\">if (window.MathJax) {MathJax.Hub.Config({SVG: {font: \"STIX-Web\"}});}</script>                <script type=\"text/javascript\">window.PlotlyConfig = {MathJaxConfig: 'local'};</script>\n",
              "        <script src=\"https://cdn.plot.ly/plotly-2.8.3.min.js\"></script>                <div id=\"2e232e99-9fc5-4d60-8ffb-e5590d06627f\" class=\"plotly-graph-div\" style=\"height:600px; width:1000px;\"></div>            <script type=\"text/javascript\">                                    window.PLOTLYENV=window.PLOTLYENV || {};                                    if (document.getElementById(\"2e232e99-9fc5-4d60-8ffb-e5590d06627f\")) {                    Plotly.newPlot(                        \"2e232e99-9fc5-4d60-8ffb-e5590d06627f\",                        [{\"name\":\"CSIRO Adjusted Sea Level\",\"x\":[1880,1881,1882,1883,1884,1885,1886,1887,1888,1889,1890,1891,1892,1893,1894,1895,1896,1897,1898,1899,1900,1901,1902,1903,1904,1905,1906,1907,1908,1909,1910,1911,1912,1913,1914,1915,1916,1917,1918,1919,1920,1921,1922,1923,1924,1925,1926,1927,1928,1929,1930,1931,1932,1933,1934,1935,1936,1937,1938,1939,1940,1941,1942,1943,1944,1945,1946,1947,1948,1949,1950,1951,1952,1953,1954,1955,1956,1957,1958,1959,1960,1961,1962,1963,1964,1965,1966,1967,1968,1969,1970,1971,1972,1973,1974,1975,1976,1977,1978,1979,1980,1981,1982,1983,1984,1985,1986,1987,1988,1989,1990,1991,1992,1993,1994,1995,1996,1997,1998,1999,2000,2001,2002,2003,2004,2005,2006,2007,2008,2009,2010,2011,2012,2013],\"y\":[0.0,0.220472441,-0.440944881,-0.232283464,0.590551181,0.531496062,0.437007874,0.216535433,0.299212598,0.362204724,0.440944881,0.374015748,0.499999999,0.685039369,0.303149606,0.767716535,0.468503937,0.673228346,1.043307086,1.338582676,1.125984251,1.110236219,1.291338581,1.606299211,1.2007874,0.984251968,1.251968503,1.196850392,1.098425196,1.27559055,1.271653542,1.598425195,1.476377951,1.547244093,1.795275589,2.10629921,2.031496061,1.854330707,1.791338581,1.854330707,1.905511809,1.988188974,1.952755904,1.999999998,1.712598423,1.791338581,2.047244092,2.003937006,1.850393699,1.905511809,2.062992124,2.047244092,2.271653541,2.440944879,2.228346454,2.448818895,2.295275588,2.519685037,2.622047241,2.826771651,2.618110234,3.098425194,3.098425194,3.098425194,2.84645669,2.95669291,3.251968501,3.374015745,3.562992122,3.51181102,3.598425193,3.972440941,3.870078736,4.043307082,3.929133854,3.964566925,3.763779524,4.291338578,4.346456688,4.358267712,4.503937003,4.748031491,4.543307082,4.480314956,4.169291334,4.610236216,4.397637791,4.452755901,4.484251964,4.751968499,4.67716535,4.881889759,5.240157475,5.003937003,5.472440939,5.409448813,5.370078735,5.303149601,5.555118105,5.362204719,5.598425191,6.086614167,5.858267711,6.188976372,6.153543301,5.74803149,5.771653537,5.795275585,5.980314955,6.157480309,6.232283458,6.334645663,6.35826771,6.291338576,6.499999993,6.618110229,6.787401568,7.066929127,6.665354324,7.011811016,7.062992119,7.287401567,7.381889756,7.759842512,7.740157472,7.74409448,7.917322827,7.996062984,8.350393692,8.586614164,8.901574794,8.96456692,9.326771644,8.980314951],\"type\":\"scatter\"},{\"name\":\"NOAA Adjusted Sea Level\",\"x\":[1880,1881,1882,1883,1884,1885,1886,1887,1888,1889,1890,1891,1892,1893,1894,1895,1896,1897,1898,1899,1900,1901,1902,1903,1904,1905,1906,1907,1908,1909,1910,1911,1912,1913,1914,1915,1916,1917,1918,1919,1920,1921,1922,1923,1924,1925,1926,1927,1928,1929,1930,1931,1932,1933,1934,1935,1936,1937,1938,1939,1940,1941,1942,1943,1944,1945,1946,1947,1948,1949,1950,1951,1952,1953,1954,1955,1956,1957,1958,1959,1960,1961,1962,1963,1964,1965,1966,1967,1968,1969,1970,1971,1972,1973,1974,1975,1976,1977,1978,1979,1980,1981,1982,1983,1984,1985,1986,1987,1988,1989,1990,1991,1992,1993,1994,1995,1996,1997,1998,1999,2000,2001,2002,2003,2004,2005,2006,2007,2008,2009,2010,2011,2012,2013],\"y\":[null,null,null,null,null,null,null,null,null,null,null,null,null,null,null,null,null,null,null,null,null,null,null,null,null,null,null,null,null,null,null,null,null,null,null,null,null,null,null,null,null,null,null,null,null,null,null,null,null,null,null,null,null,null,null,null,null,null,null,null,null,null,null,null,null,null,null,null,null,null,null,null,null,null,null,null,null,null,null,null,null,null,null,null,null,null,null,null,null,null,null,null,null,null,null,null,null,null,null,null,null,null,null,null,null,null,null,null,null,null,null,null,null,6.297493046,6.310933553,6.452568661,6.62763131,6.733920367,6.865806069,6.848689771,6.920582014,7.087460011,7.319697525,7.488352718,7.507932839,7.644563144,7.697420009,7.70214715,7.90736541,8.04635409,8.122972567,8.053065004,8.457057629,8.546648227],\"type\":\"scatter\"}],                        {\"template\":{\"data\":{\"bar\":[{\"error_x\":{\"color\":\"#2a3f5f\"},\"error_y\":{\"color\":\"#2a3f5f\"},\"marker\":{\"line\":{\"color\":\"#E5ECF6\",\"width\":0.5},\"pattern\":{\"fillmode\":\"overlay\",\"size\":10,\"solidity\":0.2}},\"type\":\"bar\"}],\"barpolar\":[{\"marker\":{\"line\":{\"color\":\"#E5ECF6\",\"width\":0.5},\"pattern\":{\"fillmode\":\"overlay\",\"size\":10,\"solidity\":0.2}},\"type\":\"barpolar\"}],\"carpet\":[{\"aaxis\":{\"endlinecolor\":\"#2a3f5f\",\"gridcolor\":\"white\",\"linecolor\":\"white\",\"minorgridcolor\":\"white\",\"startlinecolor\":\"#2a3f5f\"},\"baxis\":{\"endlinecolor\":\"#2a3f5f\",\"gridcolor\":\"white\",\"linecolor\":\"white\",\"minorgridcolor\":\"white\",\"startlinecolor\":\"#2a3f5f\"},\"type\":\"carpet\"}],\"choropleth\":[{\"colorbar\":{\"outlinewidth\":0,\"ticks\":\"\"},\"type\":\"choropleth\"}],\"contour\":[{\"colorbar\":{\"outlinewidth\":0,\"ticks\":\"\"},\"colorscale\":[[0.0,\"#0d0887\"],[0.1111111111111111,\"#46039f\"],[0.2222222222222222,\"#7201a8\"],[0.3333333333333333,\"#9c179e\"],[0.4444444444444444,\"#bd3786\"],[0.5555555555555556,\"#d8576b\"],[0.6666666666666666,\"#ed7953\"],[0.7777777777777778,\"#fb9f3a\"],[0.8888888888888888,\"#fdca26\"],[1.0,\"#f0f921\"]],\"type\":\"contour\"}],\"contourcarpet\":[{\"colorbar\":{\"outlinewidth\":0,\"ticks\":\"\"},\"type\":\"contourcarpet\"}],\"heatmap\":[{\"colorbar\":{\"outlinewidth\":0,\"ticks\":\"\"},\"colorscale\":[[0.0,\"#0d0887\"],[0.1111111111111111,\"#46039f\"],[0.2222222222222222,\"#7201a8\"],[0.3333333333333333,\"#9c179e\"],[0.4444444444444444,\"#bd3786\"],[0.5555555555555556,\"#d8576b\"],[0.6666666666666666,\"#ed7953\"],[0.7777777777777778,\"#fb9f3a\"],[0.8888888888888888,\"#fdca26\"],[1.0,\"#f0f921\"]],\"type\":\"heatmap\"}],\"heatmapgl\":[{\"colorbar\":{\"outlinewidth\":0,\"ticks\":\"\"},\"colorscale\":[[0.0,\"#0d0887\"],[0.1111111111111111,\"#46039f\"],[0.2222222222222222,\"#7201a8\"],[0.3333333333333333,\"#9c179e\"],[0.4444444444444444,\"#bd3786\"],[0.5555555555555556,\"#d8576b\"],[0.6666666666666666,\"#ed7953\"],[0.7777777777777778,\"#fb9f3a\"],[0.8888888888888888,\"#fdca26\"],[1.0,\"#f0f921\"]],\"type\":\"heatmapgl\"}],\"histogram\":[{\"marker\":{\"pattern\":{\"fillmode\":\"overlay\",\"size\":10,\"solidity\":0.2}},\"type\":\"histogram\"}],\"histogram2d\":[{\"colorbar\":{\"outlinewidth\":0,\"ticks\":\"\"},\"colorscale\":[[0.0,\"#0d0887\"],[0.1111111111111111,\"#46039f\"],[0.2222222222222222,\"#7201a8\"],[0.3333333333333333,\"#9c179e\"],[0.4444444444444444,\"#bd3786\"],[0.5555555555555556,\"#d8576b\"],[0.6666666666666666,\"#ed7953\"],[0.7777777777777778,\"#fb9f3a\"],[0.8888888888888888,\"#fdca26\"],[1.0,\"#f0f921\"]],\"type\":\"histogram2d\"}],\"histogram2dcontour\":[{\"colorbar\":{\"outlinewidth\":0,\"ticks\":\"\"},\"colorscale\":[[0.0,\"#0d0887\"],[0.1111111111111111,\"#46039f\"],[0.2222222222222222,\"#7201a8\"],[0.3333333333333333,\"#9c179e\"],[0.4444444444444444,\"#bd3786\"],[0.5555555555555556,\"#d8576b\"],[0.6666666666666666,\"#ed7953\"],[0.7777777777777778,\"#fb9f3a\"],[0.8888888888888888,\"#fdca26\"],[1.0,\"#f0f921\"]],\"type\":\"histogram2dcontour\"}],\"mesh3d\":[{\"colorbar\":{\"outlinewidth\":0,\"ticks\":\"\"},\"type\":\"mesh3d\"}],\"parcoords\":[{\"line\":{\"colorbar\":{\"outlinewidth\":0,\"ticks\":\"\"}},\"type\":\"parcoords\"}],\"pie\":[{\"automargin\":true,\"type\":\"pie\"}],\"scatter\":[{\"marker\":{\"colorbar\":{\"outlinewidth\":0,\"ticks\":\"\"}},\"type\":\"scatter\"}],\"scatter3d\":[{\"line\":{\"colorbar\":{\"outlinewidth\":0,\"ticks\":\"\"}},\"marker\":{\"colorbar\":{\"outlinewidth\":0,\"ticks\":\"\"}},\"type\":\"scatter3d\"}],\"scattercarpet\":[{\"marker\":{\"colorbar\":{\"outlinewidth\":0,\"ticks\":\"\"}},\"type\":\"scattercarpet\"}],\"scattergeo\":[{\"marker\":{\"colorbar\":{\"outlinewidth\":0,\"ticks\":\"\"}},\"type\":\"scattergeo\"}],\"scattergl\":[{\"marker\":{\"colorbar\":{\"outlinewidth\":0,\"ticks\":\"\"}},\"type\":\"scattergl\"}],\"scattermapbox\":[{\"marker\":{\"colorbar\":{\"outlinewidth\":0,\"ticks\":\"\"}},\"type\":\"scattermapbox\"}],\"scatterpolar\":[{\"marker\":{\"colorbar\":{\"outlinewidth\":0,\"ticks\":\"\"}},\"type\":\"scatterpolar\"}],\"scatterpolargl\":[{\"marker\":{\"colorbar\":{\"outlinewidth\":0,\"ticks\":\"\"}},\"type\":\"scatterpolargl\"}],\"scatterternary\":[{\"marker\":{\"colorbar\":{\"outlinewidth\":0,\"ticks\":\"\"}},\"type\":\"scatterternary\"}],\"surface\":[{\"colorbar\":{\"outlinewidth\":0,\"ticks\":\"\"},\"colorscale\":[[0.0,\"#0d0887\"],[0.1111111111111111,\"#46039f\"],[0.2222222222222222,\"#7201a8\"],[0.3333333333333333,\"#9c179e\"],[0.4444444444444444,\"#bd3786\"],[0.5555555555555556,\"#d8576b\"],[0.6666666666666666,\"#ed7953\"],[0.7777777777777778,\"#fb9f3a\"],[0.8888888888888888,\"#fdca26\"],[1.0,\"#f0f921\"]],\"type\":\"surface\"}],\"table\":[{\"cells\":{\"fill\":{\"color\":\"#EBF0F8\"},\"line\":{\"color\":\"white\"}},\"header\":{\"fill\":{\"color\":\"#C8D4E3\"},\"line\":{\"color\":\"white\"}},\"type\":\"table\"}]},\"layout\":{\"annotationdefaults\":{\"arrowcolor\":\"#2a3f5f\",\"arrowhead\":0,\"arrowwidth\":1},\"autotypenumbers\":\"strict\",\"coloraxis\":{\"colorbar\":{\"outlinewidth\":0,\"ticks\":\"\"}},\"colorscale\":{\"diverging\":[[0,\"#8e0152\"],[0.1,\"#c51b7d\"],[0.2,\"#de77ae\"],[0.3,\"#f1b6da\"],[0.4,\"#fde0ef\"],[0.5,\"#f7f7f7\"],[0.6,\"#e6f5d0\"],[0.7,\"#b8e186\"],[0.8,\"#7fbc41\"],[0.9,\"#4d9221\"],[1,\"#276419\"]],\"sequential\":[[0.0,\"#0d0887\"],[0.1111111111111111,\"#46039f\"],[0.2222222222222222,\"#7201a8\"],[0.3333333333333333,\"#9c179e\"],[0.4444444444444444,\"#bd3786\"],[0.5555555555555556,\"#d8576b\"],[0.6666666666666666,\"#ed7953\"],[0.7777777777777778,\"#fb9f3a\"],[0.8888888888888888,\"#fdca26\"],[1.0,\"#f0f921\"]],\"sequentialminus\":[[0.0,\"#0d0887\"],[0.1111111111111111,\"#46039f\"],[0.2222222222222222,\"#7201a8\"],[0.3333333333333333,\"#9c179e\"],[0.4444444444444444,\"#bd3786\"],[0.5555555555555556,\"#d8576b\"],[0.6666666666666666,\"#ed7953\"],[0.7777777777777778,\"#fb9f3a\"],[0.8888888888888888,\"#fdca26\"],[1.0,\"#f0f921\"]]},\"colorway\":[\"#636efa\",\"#EF553B\",\"#00cc96\",\"#ab63fa\",\"#FFA15A\",\"#19d3f3\",\"#FF6692\",\"#B6E880\",\"#FF97FF\",\"#FECB52\"],\"font\":{\"color\":\"#2a3f5f\"},\"geo\":{\"bgcolor\":\"white\",\"lakecolor\":\"white\",\"landcolor\":\"#E5ECF6\",\"showlakes\":true,\"showland\":true,\"subunitcolor\":\"white\"},\"hoverlabel\":{\"align\":\"left\"},\"hovermode\":\"closest\",\"mapbox\":{\"style\":\"light\"},\"paper_bgcolor\":\"white\",\"plot_bgcolor\":\"#E5ECF6\",\"polar\":{\"angularaxis\":{\"gridcolor\":\"white\",\"linecolor\":\"white\",\"ticks\":\"\"},\"bgcolor\":\"#E5ECF6\",\"radialaxis\":{\"gridcolor\":\"white\",\"linecolor\":\"white\",\"ticks\":\"\"}},\"scene\":{\"xaxis\":{\"backgroundcolor\":\"#E5ECF6\",\"gridcolor\":\"white\",\"gridwidth\":2,\"linecolor\":\"white\",\"showbackground\":true,\"ticks\":\"\",\"zerolinecolor\":\"white\"},\"yaxis\":{\"backgroundcolor\":\"#E5ECF6\",\"gridcolor\":\"white\",\"gridwidth\":2,\"linecolor\":\"white\",\"showbackground\":true,\"ticks\":\"\",\"zerolinecolor\":\"white\"},\"zaxis\":{\"backgroundcolor\":\"#E5ECF6\",\"gridcolor\":\"white\",\"gridwidth\":2,\"linecolor\":\"white\",\"showbackground\":true,\"ticks\":\"\",\"zerolinecolor\":\"white\"}},\"shapedefaults\":{\"line\":{\"color\":\"#2a3f5f\"}},\"ternary\":{\"aaxis\":{\"gridcolor\":\"white\",\"linecolor\":\"white\",\"ticks\":\"\"},\"baxis\":{\"gridcolor\":\"white\",\"linecolor\":\"white\",\"ticks\":\"\"},\"bgcolor\":\"#E5ECF6\",\"caxis\":{\"gridcolor\":\"white\",\"linecolor\":\"white\",\"ticks\":\"\"}},\"title\":{\"x\":0.05},\"xaxis\":{\"automargin\":true,\"gridcolor\":\"white\",\"linecolor\":\"white\",\"ticks\":\"\",\"title\":{\"standoff\":15},\"zerolinecolor\":\"white\",\"zerolinewidth\":2},\"yaxis\":{\"automargin\":true,\"gridcolor\":\"white\",\"linecolor\":\"white\",\"ticks\":\"\",\"title\":{\"standoff\":15},\"zerolinecolor\":\"white\",\"zerolinewidth\":2}}},\"title\":{\"text\":\"Global Average Absolute Sea Level Change from 1880 to 2013\"},\"xaxis\":{\"title\":{\"text\":\"Year\"}},\"yaxis\":{\"title\":{\"text\":\"Cumulative Sea Level change(inches)\"}},\"width\":1000,\"height\":600},                        {\"responsive\": true}                    ).then(function(){\n",
              "                            \n",
              "var gd = document.getElementById('2e232e99-9fc5-4d60-8ffb-e5590d06627f');\n",
              "var x = new MutationObserver(function (mutations, observer) {{\n",
              "        var display = window.getComputedStyle(gd).display;\n",
              "        if (!display || display === 'none') {{\n",
              "            console.log([gd, 'removed!']);\n",
              "            Plotly.purge(gd);\n",
              "            observer.disconnect();\n",
              "        }}\n",
              "}});\n",
              "\n",
              "// Listen for the removal of the full notebook cells\n",
              "var notebookContainer = gd.closest('#notebook-container');\n",
              "if (notebookContainer) {{\n",
              "    x.observe(notebookContainer, {childList: true});\n",
              "}}\n",
              "\n",
              "// Listen for the clearing of the current output cell\n",
              "var outputEl = gd.closest('.output');\n",
              "if (outputEl) {{\n",
              "    x.observe(outputEl, {childList: true});\n",
              "}}\n",
              "\n",
              "                        })                };                            </script>        </div>\n",
              "</body>\n",
              "</html>"
            ]
          },
          "metadata": {}
        }
      ]
    },
    {
      "cell_type": "markdown",
      "source": [
        "The image above shows trends in global average absolute sea level from 1880 to 2013 based on a combination of long-term tide gauge measurements and recent satellite measurement. From the EPA [link text](https://) the US EPA (2014): \"*This figure shows average absolute sea level change, which refers to the height of the ocean surface, regardless of whether nearby land is rising or falling. Satellite data are based solely on measured sea level, while the long-term tide gauge data include a small correction factor because the size and shape of the oceans are changing slowly over time.*\" \n",
        "\n",
        "The graph output shows a gradully risen sea level since 1880. This can be attributed to the globle warming factors. The graph potins the lowest sea level is -0.4409449 inches in 1882 and the highest see level year 2012 with the value of 9.326772 inches as we worked out in Part 3. \n",
        "\n",
        "Global average sea level rose throughout the 20th century, and the rate of change has accelerated in recent years. When averaged over all of the world’s oceans, absolute sea level has risen at an average rate of 0.06 inches per year from 1880 to 2013. Since 1993, however, average sea level has risen at a rate of 0.12 to 0.14 inches per year—roughly twice as fast as the long-term trend.\n",
        "\n"
      ],
      "metadata": {
        "id": "jjivg7G5TLpS"
      }
    },
    {
      "cell_type": "markdown",
      "source": [
        "# **PART 4: Global Average Absolute Sea Level Prediction for year 2050**"
      ],
      "metadata": {
        "id": "BM3N9mqqJkJz"
      }
    },
    {
      "cell_type": "markdown",
      "source": [
        "The idea of this project is to analyse the global average sea level since 1880, and predict the sea level growth at 2050. The behaviour of the sea level has been approximately linear between 1880 and 2013, for this reason we consider a linear least-squares regression. In order to analyse future sea level values we made an adjustment in the last decade due to an explosive growth in this period.\n",
        "\n",
        "We will perform a liner least-squeares regression from the sciPy package aviable here: [link text](https://docs.scipy.org/doc/scipy/reference/generated/scipy.stats.linregress.html)\n"
      ],
      "metadata": {
        "id": "0RmcjnJ4ZbbL"
      }
    },
    {
      "cell_type": "markdown",
      "source": [
        "With this linear function, we are able to predict the sea level behaviour. To see if it is correct we can check the fit in to the data plotting the data and the linear regression. We use the statistical data visualization package Seaborn."
      ],
      "metadata": {
        "id": "iUqOxuFbcVKv"
      }
    },
    {
      "cell_type": "code",
      "source": [
        "def draw_plot(): \n",
        "\n",
        "  plt.rcParams.update({'figure.figsize':(10,8), 'figure.dpi':100})\n",
        "\n",
        "\n",
        "  data = sea_level_df\n",
        "  x = sea_level_df[\"Year\"]\n",
        "  y = sea_level_df[\"CSIRO Adjusted Sea Level\"]\n",
        "\n",
        "  # create scatter plot \n",
        "  fig,ax = plt.subplots()\n",
        "  plt.scatter(x, y) \n",
        "\n",
        "  #create first line of best fit \n",
        "  reg  = linregress (x,y)\n",
        "  # print(reg)\n",
        "  x_pred = pd.Series([int(i) for i in range(1880, 2050)])\n",
        "  y_pred = reg.slope* x_pred + reg.intercept\n",
        "  plt.plot(x_pred, y_pred,\"red\")\n",
        "\n",
        "  # plot a new line of best fit just using the data from year 2000 through the most recent year in the dataset. \n",
        "  # make the line also go through the year 2050 to predict the sea level rise in 2050 if the rate of rise continues as it has since the year 2000.\n",
        "  # create the second line of best fit \n",
        "  new_sea_level_df = sea_level_df.loc[sea_level_df[\"Year\"]>=2000]\n",
        "  new_x = new_sea_level_df [\"Year\"]\n",
        "  new_y = new_sea_level_df [\"CSIRO Adjusted Sea Level\" ]\n",
        "  reg_2 = linregress(new_x, new_y)\n",
        "\n",
        "  x_pred2 = pd.Series([i for i in range (2000, 2051)])\n",
        "  y_pred2 = reg_2.slope* x_pred2 + reg_2.intercept \n",
        "  plt.plot(x_pred2, y_pred2, \"Green\")\n",
        "  \n",
        "\n",
        "  # add labels and tiltes \n",
        "  ax.set_xlabel (\"Year\") # add an x_lable to the axes\n",
        "  ax.set_ylabel(\"Cumulative Sea Level change(inches)\")# add an y_lable to the axes\n",
        "  ax.set_title(\"Global Average Absolute Sea Level Prediction for year 2050\") # add the tilte for the graph \n",
        "  \n",
        "  plt.show()\n",
        "  return reg_2, x_pred2\n",
        "\n",
        "reg_2, x_pred2 = draw_plot()"
      ],
      "metadata": {
        "colab": {
          "base_uri": "https://localhost:8080/",
          "height": 705
        },
        "id": "QymG1S8bYk_3",
        "outputId": "e59177ca-4bda-425b-8f56-ea209bac59ab"
      },
      "execution_count": null,
      "outputs": [
        {
          "output_type": "display_data",
          "data": {
            "text/plain": [
              "<Figure size 1000x800 with 1 Axes>"
            ],
            "image/png": "[encoded data removed]"
          },
          "metadata": {
            "needs_background": "light"
          }
        }
      ]
    },
    {
      "cell_type": "markdown",
      "source": [
        "\n",
        "\n",
        "We can see that the fit of the linear function is correct, and the data shows an expontial increase in rising sea levels from the year 2000, compared to previous years. This  indicates that current enviromental conditions will have an adverse impact on sea levels. Studies show that as global temperatures continue to warm, rapid sea level rises will be inevitable.\n",
        "\n",
        " "
      ],
      "metadata": {
        "id": "3bHM0DMkjEZ7"
      }
    },
    {
      "cell_type": "markdown",
      "source": [
        "**Sea Level Prediction for year 2050**"
      ],
      "metadata": {
        "id": "w2Z_jc3_fWYJ"
      }
    },
    {
      "cell_type": "code",
      "source": [
        "y_pred2 = reg_2.slope*2050 + reg_2.intercept \n",
        "print(y_pred2)\n"
      ],
      "metadata": {
        "colab": {
          "base_uri": "https://localhost:8080/"
        },
        "id": "lSQQ40jagbE-",
        "outputId": "10ab674f-11a8-44e1-8866-e9647d1c637e"
      },
      "execution_count": null,
      "outputs": [
        {
          "output_type": "stream",
          "name": "stdout",
          "text": [
            "15.382443524364874\n"
          ]
        }
      ]
    },
    {
      "cell_type": "code",
      "source": [
        "def sea_level_df(year, slope, intercept):\n",
        "\n",
        "  y_pred2 = slope* x_pred2 + intercept  \n",
        "  return y_pred2\n",
        "\n",
        "prediction = sea_level_df(2050, reg_2.slope, reg_2.intercept)\n",
        "print(prediction)# print the list of the predicted values \n",
        "#print(prediction[-5:]) # to print the last 5 rows of data"
      ],
      "metadata": {
        "colab": {
          "base_uri": "https://localhost:8080/"
        },
        "id": "69pZL03_3TVw",
        "outputId": "e4e75fcd-cb06-4d79-9977-61eb43737bf6"
      },
      "execution_count": null,
      "outputs": [
        {
          "output_type": "stream",
          "name": "stdout",
          "text": [
            "0      7.061080\n",
            "1      7.227507\n",
            "2      7.393934\n",
            "3      7.560362\n",
            "4      7.726789\n",
            "5      7.893216\n",
            "6      8.059643\n",
            "7      8.226071\n",
            "8      8.392498\n",
            "9      8.558925\n",
            "10     8.725353\n",
            "11     8.891780\n",
            "12     9.058207\n",
            "13     9.224634\n",
            "14     9.391062\n",
            "15     9.557489\n",
            "16     9.723916\n",
            "17     9.890344\n",
            "18    10.056771\n",
            "19    10.223198\n",
            "20    10.389625\n",
            "21    10.556053\n",
            "22    10.722480\n",
            "23    10.888907\n",
            "24    11.055334\n",
            "25    11.221762\n",
            "26    11.388189\n",
            "27    11.554616\n",
            "28    11.721044\n",
            "29    11.887471\n",
            "30    12.053898\n",
            "31    12.220325\n",
            "32    12.386753\n",
            "33    12.553180\n",
            "34    12.719607\n",
            "35    12.886034\n",
            "36    13.052462\n",
            "37    13.218889\n",
            "38    13.385316\n",
            "39    13.551744\n",
            "40    13.718171\n",
            "41    13.884598\n",
            "42    14.051025\n",
            "43    14.217453\n",
            "44    14.383880\n",
            "45    14.550307\n",
            "46    14.716734\n",
            "47    14.883162\n",
            "48    15.049589\n",
            "49    15.216016\n",
            "50    15.382444\n",
            "dtype: float64\n"
          ]
        }
      ]
    },
    {
      "cell_type": "markdown",
      "source": [
        "Regression analysis has been used to predict the values of rising sea levels up to the year 2050. The first model calculates the singular value of sea level in the year 2050 which is predicted at 15.38 inches. In the second function, the results are determined chronologically with the resulting sea level rise at 2050 predicted as 15.38 inches which agrees with the first calculation as noted above. "
      ],
      "metadata": {
        "id": "jzExcPZ-1Im9"
      }
    },
    {
      "cell_type": "markdown",
      "source": [
        "# **Summary**\n",
        "\n",
        "\n",
        "From this project it is noted that the the lowest sea level is -0.4409449 in 1882, while in 2012, global sea levels have reached their highest record with 9.326772 inches above 1880 levels. This indicates that global mean sea levels have risen by about 8-9 inches since 1880. \n",
        "\n",
        "\n",
        "The rate of sea level rise is accelerating and based on the above results by 2050 sea levels are predicted to be 15.38 inches. \n",
        "\n",
        "\n",
        "Whilst the prediction is function of the regression analysis many factors will influence the actual rate of change in sea levels. Some such factors could be government intervention, reduction of fossil fuel useage and other factors that will reduce greenhouse gas emmissions. \n",
        "\n",
        "\n",
        "\n",
        "\n"
      ],
      "metadata": {
        "id": "oc78r4bA-Goe"
      }
    },
    {
      "cell_type": "markdown",
      "metadata": {
        "id": "yQyytEbnZ1lw"
      },
      "source": [
        "# Reflection\n",
        "----\n",
        "\n",
        "## What skills have you demonstrated in completing this notebook?"
      ]
    },
    {
      "cell_type": "markdown",
      "metadata": {
        "id": "MM00hR5aZk1-"
      },
      "source": [
        "Your answer: \n",
        "\n",
        "\n",
        "*   Learnt how to import libraries such as pandas, numpy, seaborn, matplotlib and scipy.stats and plotly for extracting and visualizing the data.\n",
        "\n",
        "*   Used df.head() and df.info() to inspect the data and the column data types\n",
        "\n",
        "\n",
        "*   Used numpy function *np.where() *to calculate some statistics on the sea level array\n",
        "\n",
        "\n",
        "*   Plotted a scatter plot by using the Graph Objects to show how the sea levels have changed over time.\n",
        "\n",
        "\n",
        "*   Used the linear regression function from scipy.stats to get the slope and y-intercept of the line of best fit. Plot the line of best fit over the top of the scatter plot. Make the line go through the year 2050 to predict the sea level rise in 2050.\n",
        "\n",
        "\n",
        "*   Plotted a new line of best fit just using the data from year 2000 through the most recent year in the dataset. Make the line also go through the year 2050 to predict the sea level rise in 2050 if the rate of rise continues as it has since the year 2000.\n",
        "\n",
        "\n",
        "\n"
      ]
    },
    {
      "cell_type": "markdown",
      "metadata": {
        "id": "Zgexd27sZ1ly"
      },
      "source": [
        "## What caused you the most difficulty?"
      ]
    },
    {
      "cell_type": "markdown",
      "metadata": {
        "id": "-Y_nrVBwaGXr"
      },
      "source": [
        "Your answer: \n",
        "\n",
        "The most challenging aspect of this project was to add two legends for two verables, on the first attempt only one legend was showing however, after defining the second y axis and  adding an additional line in my code for the additional y_varibale. "
      ]
    }
  ]
}