{
  "nbformat": 4,
  "nbformat_minor": 0,
  "metadata": {
    "colab": {
      "name": "Movies  mini-project.ipynb",
      "provenance": [],
      "collapsed_sections": [],
      "include_colab_link": true
    },
    "kernelspec": {
      "name": "python3",
      "display_name": "Python 3"
    },
    "language_info": {
      "name": "python"
    }
  },
  "cells": [
    {
      "cell_type": "markdown",
      "metadata": {
        "id": "view-in-github",
        "colab_type": "text"
      },
      "source": [
        "<a href=\"https://colab.research.google.com/github/Chenjing2022/Chenjing2022-Data-Analysis-and-Python/blob/main/Projects/Movies_mini_project.ipynb\" target=\"_parent\"><img src=\"https://colab.research.google.com/assets/colab-badge.svg\" alt=\"Open In Colab\"/></a>"
      ]
    },
    {
      "cell_type": "markdown",
      "metadata": {
        "id": "iNinIL0w_DHu"
      },
      "source": [
        "# Movies Mini-project\n",
        "---\n",
        "\n",
        "In the previous worksheet you converted an SQL relational database to a single pandas dataframe and downloaded it. You will be analysing it today.\n",
        "\n",
        "If you were unable to download the file, there is a copy located here: \n",
        "\n",
        "\"https://github.com/lilaceri/Working-with-data-/blob/main/Data%20Sets%20for%20code%20divisio/movies.csv?raw=true\"\n",
        "\n"
      ]
    },
    {
      "cell_type": "markdown",
      "metadata": {
        "id": "TlOJOk3vMN2C"
      },
      "source": [
        "### Inspect the dataset \n",
        "---"
      ]
    },
    {
      "cell_type": "code",
      "metadata": {
        "id": "Le5KSKHY_BM9",
        "colab": {
          "base_uri": "https://localhost:8080/",
          "height": 424
        },
        "outputId": "d63673b7-177d-4324-aeb7-50fac196a1a4"
      },
      "source": [
        "import pandas as pd\n",
        "import numpy as np\n",
        "import seaborn as sns\n",
        "import matplotlib.pyplot as plt\n",
        "\n",
        "url = \"https://github.com/lilaceri/Working-with-data-/blob/main/Data%20Sets%20for%20code%20divisio/movies.csv?raw=true\"\n",
        "movies = pd.read_csv(url )\n",
        "movies"
      ],
      "execution_count": null,
      "outputs": [
        {
          "output_type": "execute_result",
          "data": {
            "text/html": [
              "\n",
              "  <div id=\"df-38fcdc34-e59a-4e5f-afbb-d377ffc8fd68\">\n",
              "    <div class=\"colab-df-container\">\n",
              "      <div>\n",
              "<style scoped>\n",
              "    .dataframe tbody tr th:only-of-type {\n",
              "        vertical-align: middle;\n",
              "    }\n",
              "\n",
              "    .dataframe tbody tr th {\n",
              "        vertical-align: top;\n",
              "    }\n",
              "\n",
              "    .dataframe thead th {\n",
              "        text-align: right;\n",
              "    }\n",
              "</style>\n",
              "<table border=\"1\" class=\"dataframe\">\n",
              "  <thead>\n",
              "    <tr style=\"text-align: right;\">\n",
              "      <th></th>\n",
              "      <th>Unnamed: 0</th>\n",
              "      <th>first_name</th>\n",
              "      <th>last_name</th>\n",
              "      <th>name</th>\n",
              "      <th>year</th>\n",
              "      <th>rank</th>\n",
              "      <th>genre</th>\n",
              "    </tr>\n",
              "  </thead>\n",
              "  <tbody>\n",
              "    <tr>\n",
              "      <th>0</th>\n",
              "      <td>0</td>\n",
              "      <td>Les</td>\n",
              "      <td>12 Poissons</td>\n",
              "      <td>Rondo pour trompette</td>\n",
              "      <td>2002</td>\n",
              "      <td>NaN</td>\n",
              "      <td>Short</td>\n",
              "    </tr>\n",
              "    <tr>\n",
              "      <th>1</th>\n",
              "      <td>1</td>\n",
              "      <td>Lejaren</td>\n",
              "      <td>a'Hiller</td>\n",
              "      <td>Sleep of Cyma Roget, The</td>\n",
              "      <td>1920</td>\n",
              "      <td>NaN</td>\n",
              "      <td>Drama</td>\n",
              "    </tr>\n",
              "    <tr>\n",
              "      <th>2</th>\n",
              "      <td>2</td>\n",
              "      <td>Khairiya</td>\n",
              "      <td>A-Mansour</td>\n",
              "      <td>Churches in Iraq</td>\n",
              "      <td>1988</td>\n",
              "      <td>NaN</td>\n",
              "      <td>Documentary</td>\n",
              "    </tr>\n",
              "    <tr>\n",
              "      <th>3</th>\n",
              "      <td>3</td>\n",
              "      <td>Ricardo</td>\n",
              "      <td>A. Solla</td>\n",
              "      <td>Foto, La</td>\n",
              "      <td>2001</td>\n",
              "      <td>NaN</td>\n",
              "      <td>Drama</td>\n",
              "    </tr>\n",
              "    <tr>\n",
              "      <th>4</th>\n",
              "      <td>4</td>\n",
              "      <td>Ricardo</td>\n",
              "      <td>A. Solla</td>\n",
              "      <td>Foto, La</td>\n",
              "      <td>2001</td>\n",
              "      <td>NaN</td>\n",
              "      <td>Short</td>\n",
              "    </tr>\n",
              "    <tr>\n",
              "      <th>...</th>\n",
              "      <td>...</td>\n",
              "      <td>...</td>\n",
              "      <td>...</td>\n",
              "      <td>...</td>\n",
              "      <td>...</td>\n",
              "      <td>...</td>\n",
              "      <td>...</td>\n",
              "    </tr>\n",
              "    <tr>\n",
              "      <th>368889</th>\n",
              "      <td>368889</td>\n",
              "      <td>Yusuf</td>\n",
              "      <td>Ünal</td>\n",
              "      <td>Kalbim agliyor</td>\n",
              "      <td>1988</td>\n",
              "      <td>NaN</td>\n",
              "      <td>Drama</td>\n",
              "    </tr>\n",
              "    <tr>\n",
              "      <th>368890</th>\n",
              "      <td>368890</td>\n",
              "      <td>Ahmet</td>\n",
              "      <td>Ündag</td>\n",
              "      <td>Ve gnese kan siradi</td>\n",
              "      <td>1972</td>\n",
              "      <td>NaN</td>\n",
              "      <td>Adventure</td>\n",
              "    </tr>\n",
              "    <tr>\n",
              "      <th>368891</th>\n",
              "      <td>368891</td>\n",
              "      <td>Idil</td>\n",
              "      <td>Üner</td>\n",
              "      <td>Liebenden vom Hotel von Osman, Die</td>\n",
              "      <td>2001</td>\n",
              "      <td>8.5</td>\n",
              "      <td>Short</td>\n",
              "    </tr>\n",
              "    <tr>\n",
              "      <th>368892</th>\n",
              "      <td>368892</td>\n",
              "      <td>Yüksel</td>\n",
              "      <td>Ünsal</td>\n",
              "      <td>Evvel zaman iinde</td>\n",
              "      <td>1951</td>\n",
              "      <td>NaN</td>\n",
              "      <td>Animation</td>\n",
              "    </tr>\n",
              "    <tr>\n",
              "      <th>368893</th>\n",
              "      <td>368893</td>\n",
              "      <td>Yüksel</td>\n",
              "      <td>Ünsal</td>\n",
              "      <td>Evvel zaman iinde</td>\n",
              "      <td>1951</td>\n",
              "      <td>NaN</td>\n",
              "      <td>Comedy</td>\n",
              "    </tr>\n",
              "  </tbody>\n",
              "</table>\n",
              "<p>368894 rows × 7 columns</p>\n",
              "</div>\n",
              "      <button class=\"colab-df-convert\" onclick=\"convertToInteractive('df-38fcdc34-e59a-4e5f-afbb-d377ffc8fd68')\"\n",
              "              title=\"Convert this dataframe to an interactive table.\"\n",
              "              style=\"display:none;\">\n",
              "        \n",
              "  <svg xmlns=\"http://www.w3.org/2000/svg\" height=\"24px\"viewBox=\"0 0 24 24\"\n",
              "       width=\"24px\">\n",
              "    <path d=\"M0 0h24v24H0V0z\" fill=\"none\"/>\n",
              "    <path d=\"M18.56 5.44l.94 2.06.94-2.06 2.06-.94-2.06-.94-.94-2.06-.94 2.06-2.06.94zm-11 1L8.5 8.5l.94-2.06 2.06-.94-2.06-.94L8.5 2.5l-.94 2.06-2.06.94zm10 10l.94 2.06.94-2.06 2.06-.94-2.06-.94-.94-2.06-.94 2.06-2.06.94z\"/><path d=\"M17.41 7.96l-1.37-1.37c-.4-.4-.92-.59-1.43-.59-.52 0-1.04.2-1.43.59L10.3 9.45l-7.72 7.72c-.78.78-.78 2.05 0 2.83L4 21.41c.39.39.9.59 1.41.59.51 0 1.02-.2 1.41-.59l7.78-7.78 2.81-2.81c.8-.78.8-2.07 0-2.86zM5.41 20L4 18.59l7.72-7.72 1.47 1.35L5.41 20z\"/>\n",
              "  </svg>\n",
              "      </button>\n",
              "      \n",
              "  <style>\n",
              "    .colab-df-container {\n",
              "      display:flex;\n",
              "      flex-wrap:wrap;\n",
              "      gap: 12px;\n",
              "    }\n",
              "\n",
              "    .colab-df-convert {\n",
              "      background-color: #E8F0FE;\n",
              "      border: none;\n",
              "      border-radius: 50%;\n",
              "      cursor: pointer;\n",
              "      display: none;\n",
              "      fill: #1967D2;\n",
              "      height: 32px;\n",
              "      padding: 0 0 0 0;\n",
              "      width: 32px;\n",
              "    }\n",
              "\n",
              "    .colab-df-convert:hover {\n",
              "      background-color: #E2EBFA;\n",
              "      box-shadow: 0px 1px 2px rgba(60, 64, 67, 0.3), 0px 1px 3px 1px rgba(60, 64, 67, 0.15);\n",
              "      fill: #174EA6;\n",
              "    }\n",
              "\n",
              "    [theme=dark] .colab-df-convert {\n",
              "      background-color: #3B4455;\n",
              "      fill: #D2E3FC;\n",
              "    }\n",
              "\n",
              "    [theme=dark] .colab-df-convert:hover {\n",
              "      background-color: #434B5C;\n",
              "      box-shadow: 0px 1px 3px 1px rgba(0, 0, 0, 0.15);\n",
              "      filter: drop-shadow(0px 1px 2px rgba(0, 0, 0, 0.3));\n",
              "      fill: #FFFFFF;\n",
              "    }\n",
              "  </style>\n",
              "\n",
              "      <script>\n",
              "        const buttonEl =\n",
              "          document.querySelector('#df-38fcdc34-e59a-4e5f-afbb-d377ffc8fd68 button.colab-df-convert');\n",
              "        buttonEl.style.display =\n",
              "          google.colab.kernel.accessAllowed ? 'block' : 'none';\n",
              "\n",
              "        async function convertToInteractive(key) {\n",
              "          const element = document.querySelector('#df-38fcdc34-e59a-4e5f-afbb-d377ffc8fd68');\n",
              "          const dataTable =\n",
              "            await google.colab.kernel.invokeFunction('convertToInteractive',\n",
              "                                                     [key], {});\n",
              "          if (!dataTable) return;\n",
              "\n",
              "          const docLinkHtml = 'Like what you see? Visit the ' +\n",
              "            '<a target=\"_blank\" href=https://colab.research.google.com/notebooks/data_table.ipynb>data table notebook</a>'\n",
              "            + ' to learn more about interactive tables.';\n",
              "          element.innerHTML = '';\n",
              "          dataTable['output_type'] = 'display_data';\n",
              "          await google.colab.output.renderOutput(dataTable, element);\n",
              "          const docLink = document.createElement('div');\n",
              "          docLink.innerHTML = docLinkHtml;\n",
              "          element.appendChild(docLink);\n",
              "        }\n",
              "      </script>\n",
              "    </div>\n",
              "  </div>\n",
              "  "
            ],
            "text/plain": [
              "        Unnamed: 0 first_name    last_name  ...  year  rank        genre\n",
              "0                0        Les  12 Poissons  ...  2002   NaN        Short\n",
              "1                1    Lejaren     a'Hiller  ...  1920   NaN        Drama\n",
              "2                2   Khairiya    A-Mansour  ...  1988   NaN  Documentary\n",
              "3                3    Ricardo     A. Solla  ...  2001   NaN        Drama\n",
              "4                4    Ricardo     A. Solla  ...  2001   NaN        Short\n",
              "...            ...        ...          ...  ...   ...   ...          ...\n",
              "368889      368889      Yusuf         Ünal  ...  1988   NaN        Drama\n",
              "368890      368890      Ahmet        Ündag  ...  1972   NaN    Adventure\n",
              "368891      368891       Idil         Üner  ...  2001   8.5        Short\n",
              "368892      368892     Yüksel        Ünsal  ...  1951   NaN    Animation\n",
              "368893      368893     Yüksel        Ünsal  ...  1951   NaN       Comedy\n",
              "\n",
              "[368894 rows x 7 columns]"
            ]
          },
          "metadata": {},
          "execution_count": 3
        }
      ]
    },
    {
      "cell_type": "code",
      "source": [
        "def get_summary(movies):\n",
        "  # add code below which prints the first 5 rows of the dataset, the info and the numerical summary\n",
        "  return movies.head(), movies.info(), movies.describe()\n",
        "\n",
        "\n",
        "get_summary(movies)"
      ],
      "metadata": {
        "colab": {
          "base_uri": "https://localhost:8080/"
        },
        "id": "NBcnDQsD3omL",
        "outputId": "76b46c6d-e8b0-4cbb-c261-1f40fd278c53"
      },
      "execution_count": null,
      "outputs": [
        {
          "output_type": "stream",
          "name": "stdout",
          "text": [
            "<class 'pandas.core.frame.DataFrame'>\n",
            "RangeIndex: 368894 entries, 0 to 368893\n",
            "Data columns (total 7 columns):\n",
            " #   Column      Non-Null Count   Dtype  \n",
            "---  ------      --------------   -----  \n",
            " 0   Unnamed: 0  368894 non-null  int64  \n",
            " 1   first_name  368894 non-null  object \n",
            " 2   last_name   368894 non-null  object \n",
            " 3   name        368894 non-null  object \n",
            " 4   year        368894 non-null  int64  \n",
            " 5   rank        113376 non-null  float64\n",
            " 6   genre       368894 non-null  object \n",
            "dtypes: float64(1), int64(2), object(4)\n",
            "memory usage: 19.7+ MB\n"
          ]
        },
        {
          "output_type": "execute_result",
          "data": {
            "text/plain": [
              "(   Unnamed: 0 first_name    last_name  ...  year  rank        genre\n",
              " 0           0        Les  12 Poissons  ...  2002   NaN        Short\n",
              " 1           1    Lejaren     a'Hiller  ...  1920   NaN        Drama\n",
              " 2           2   Khairiya    A-Mansour  ...  1988   NaN  Documentary\n",
              " 3           3    Ricardo     A. Solla  ...  2001   NaN        Drama\n",
              " 4           4    Ricardo     A. Solla  ...  2001   NaN        Short\n",
              " \n",
              " [5 rows x 7 columns], None,           Unnamed: 0           year           rank\n",
              " count  368894.000000  368894.000000  113376.000000\n",
              " mean   184446.500000    1969.442222       5.995124\n",
              " std    106490.669438      29.082051       1.540330\n",
              " min         0.000000    1888.000000       1.000000\n",
              " 25%     92223.250000    1947.000000       5.100000\n",
              " 50%    184446.500000    1976.000000       6.200000\n",
              " 75%    276669.750000    1996.000000       7.100000\n",
              " max    368893.000000    2007.000000       9.900000)"
            ]
          },
          "metadata": {},
          "execution_count": 4
        }
      ]
    },
    {
      "cell_type": "code",
      "source": [
        "# Anthoer short way to check the number of rows and columns\n",
        "movies.shape"
      ],
      "metadata": {
        "colab": {
          "base_uri": "https://localhost:8080/"
        },
        "id": "k5DKUIEV-kMY",
        "outputId": "3d1414d4-76dc-4c86-cca1-b1a99dd5fd69"
      },
      "execution_count": null,
      "outputs": [
        {
          "output_type": "execute_result",
          "data": {
            "text/plain": [
              "(368894, 7)"
            ]
          },
          "metadata": {},
          "execution_count": 5
        }
      ]
    },
    {
      "cell_type": "code",
      "source": [
        "# Method 1 - to print all the columns of the Dataframe\n",
        "print(\"Columns of the DataFrame:\")\n",
        "print(movies.columns)"
      ],
      "metadata": {
        "colab": {
          "base_uri": "https://localhost:8080/"
        },
        "id": "DwV51RAjEhW2",
        "outputId": "4793070d-f6f6-4d16-b24e-e7167aab032b"
      },
      "execution_count": null,
      "outputs": [
        {
          "output_type": "stream",
          "name": "stdout",
          "text": [
            "Columns of the DataFrame:\n",
            "Index(['Unnamed: 0', 'first_name', 'last_name', 'name', 'year', 'rank',\n",
            "       'genre'],\n",
            "      dtype='object')\n"
          ]
        }
      ]
    },
    {
      "cell_type": "code",
      "source": [
        "# Method 2 - to find all the vaiavble name of columns \n",
        "movies.columns.values"
      ],
      "metadata": {
        "colab": {
          "base_uri": "https://localhost:8080/"
        },
        "id": "kgMkU495Ln0B",
        "outputId": "7f717384-61e8-47cc-8880-55cf428563ac"
      },
      "execution_count": null,
      "outputs": [
        {
          "output_type": "execute_result",
          "data": {
            "text/plain": [
              "array(['Unnamed: 0', 'first_name', 'last_name', 'name', 'year', 'rank',\n",
              "       'genre'], dtype=object)"
            ]
          },
          "metadata": {},
          "execution_count": 7
        }
      ]
    },
    {
      "cell_type": "markdown",
      "metadata": {
        "id": "wIRDoCnxMRj8"
      },
      "source": [
        "### Clean the dataset \n",
        "---\n"
      ]
    },
    {
      "cell_type": "code",
      "source": [
        "# To count the number of missing values in each column\n",
        "movies.isnull().sum()"
      ],
      "metadata": {
        "colab": {
          "base_uri": "https://localhost:8080/"
        },
        "id": "Vq7hqsivB4Nl",
        "outputId": "5d1dac12-b5d9-4a07-f86f-64272f0294b3"
      },
      "execution_count": null,
      "outputs": [
        {
          "output_type": "execute_result",
          "data": {
            "text/plain": [
              "Unnamed: 0         0\n",
              "first_name         0\n",
              "last_name          0\n",
              "name               0\n",
              "year               0\n",
              "rank          255518\n",
              "genre              0\n",
              "dtype: int64"
            ]
          },
          "metadata": {},
          "execution_count": 8
        }
      ]
    },
    {
      "cell_type": "code",
      "metadata": {
        "id": "LgY60bsbMUc8",
        "colab": {
          "base_uri": "https://localhost:8080/"
        },
        "outputId": "584a0942-6c33-47df-df72-1408e70e47e5"
      },
      "source": [
        "# To clean the null values in a cloumn in this case e,g in Rank, but not to drop the whole column as the column will be needed in this excerise \n",
        "df_drop = movies.dropna(subset=[\"rank\"])\n",
        "df_drop.info()"
      ],
      "execution_count": null,
      "outputs": [
        {
          "output_type": "stream",
          "name": "stdout",
          "text": [
            "<class 'pandas.core.frame.DataFrame'>\n",
            "Int64Index: 113376 entries, 77 to 368891\n",
            "Data columns (total 7 columns):\n",
            " #   Column      Non-Null Count   Dtype  \n",
            "---  ------      --------------   -----  \n",
            " 0   Unnamed: 0  113376 non-null  int64  \n",
            " 1   first_name  113376 non-null  object \n",
            " 2   last_name   113376 non-null  object \n",
            " 3   name        113376 non-null  object \n",
            " 4   year        113376 non-null  int64  \n",
            " 5   rank        113376 non-null  float64\n",
            " 6   genre       113376 non-null  object \n",
            "dtypes: float64(1), int64(2), object(4)\n",
            "memory usage: 6.9+ MB\n"
          ]
        }
      ]
    },
    {
      "cell_type": "markdown",
      "metadata": {
        "id": "00Vb1k3FMdei"
      },
      "source": [
        "### How many movies of each genre are there?\n",
        "---"
      ]
    },
    {
      "cell_type": "code",
      "source": [
        "#To check how many movies of each in genre\n",
        "genre_counts = df_drop.genre.value_counts()\n",
        "print(genre_counts)"
      ],
      "metadata": {
        "colab": {
          "base_uri": "https://localhost:8080/"
        },
        "id": "8LaQIk77yUG7",
        "outputId": "545c68e4-3797-446e-c670-68c0034ca9fa"
      },
      "execution_count": null,
      "outputs": [
        {
          "output_type": "stream",
          "name": "stdout",
          "text": [
            "Drama          24696\n",
            "Comedy         20633\n",
            "Short           9894\n",
            "Action          5873\n",
            "Romance         5476\n",
            "Thriller        5440\n",
            "Family          4845\n",
            "Animation       4727\n",
            "Crime           4488\n",
            "Documentary     4296\n",
            "Horror          4227\n",
            "Adventure       3932\n",
            "Sci-Fi          2699\n",
            "Musical         2491\n",
            "Western         2364\n",
            "Fantasy         2123\n",
            "Mystery         2012\n",
            "War             1837\n",
            "Music            908\n",
            "Film-Noir        415\n",
            "Name: genre, dtype: int64\n"
          ]
        }
      ]
    },
    {
      "cell_type": "code",
      "source": [
        "# To verify all the list of movies in genre\n",
        "index = genre_counts.index\n",
        "print(index)"
      ],
      "metadata": {
        "id": "cK3cC3v7J4Zh",
        "colab": {
          "base_uri": "https://localhost:8080/"
        },
        "outputId": "1b61ce6b-ecbd-423b-f559-3279f7b876d0"
      },
      "execution_count": null,
      "outputs": [
        {
          "output_type": "stream",
          "name": "stdout",
          "text": [
            "Index(['Drama', 'Comedy', 'Short', 'Action', 'Romance', 'Thriller', 'Family',\n",
            "       'Animation', 'Crime', 'Documentary', 'Horror', 'Adventure', 'Sci-Fi',\n",
            "       'Musical', 'Western', 'Fantasy', 'Mystery', 'War', 'Music',\n",
            "       'Film-Noir'],\n",
            "      dtype='object')\n"
          ]
        }
      ]
    },
    {
      "cell_type": "markdown",
      "metadata": {
        "id": "itYpwLPpQnZM"
      },
      "source": [
        "### Which director has the highest ranked movies?\n",
        "---"
      ]
    },
    {
      "cell_type": "code",
      "source": [
        "# STEP 1: creating a new variable in the dataset called \"director\"\n",
        "df_drop[\"director\"] = df_drop[\"first_name\"] + \" \" + df_drop[\"last_name\"]\n",
        "df_drop.info()"
      ],
      "metadata": {
        "colab": {
          "base_uri": "https://localhost:8080/"
        },
        "id": "At1B1XrMp4zm",
        "outputId": "a16c3a7e-c4af-4a09-99ab-3c28b0ec1ac6"
      },
      "execution_count": null,
      "outputs": [
        {
          "output_type": "stream",
          "name": "stdout",
          "text": [
            "<class 'pandas.core.frame.DataFrame'>\n",
            "Int64Index: 113376 entries, 77 to 368891\n",
            "Data columns (total 8 columns):\n",
            " #   Column      Non-Null Count   Dtype  \n",
            "---  ------      --------------   -----  \n",
            " 0   Unnamed: 0  113376 non-null  int64  \n",
            " 1   first_name  113376 non-null  object \n",
            " 2   last_name   113376 non-null  object \n",
            " 3   name        113376 non-null  object \n",
            " 4   year        113376 non-null  int64  \n",
            " 5   rank        113376 non-null  float64\n",
            " 6   genre       113376 non-null  object \n",
            " 7   director    113376 non-null  object \n",
            "dtypes: float64(1), int64(2), object(5)\n",
            "memory usage: 7.8+ MB\n"
          ]
        },
        {
          "output_type": "stream",
          "name": "stderr",
          "text": [
            "/usr/local/lib/python3.7/dist-packages/ipykernel_launcher.py:2: SettingWithCopyWarning: \n",
            "A value is trying to be set on a copy of a slice from a DataFrame.\n",
            "Try using .loc[row_indexer,col_indexer] = value instead\n",
            "\n",
            "See the caveats in the documentation: https://pandas.pydata.org/pandas-docs/stable/user_guide/indexing.html#returning-a-view-versus-a-copy\n",
            "  \n"
          ]
        }
      ]
    },
    {
      "cell_type": "code",
      "metadata": {
        "id": "dkW23Q27Qu0A",
        "colab": {
          "base_uri": "https://localhost:8080/"
        },
        "outputId": "b83df784-cd75-46c7-d027-2f13faddf909"
      },
      "source": [
        "#STEP 2: find the average ranking of each director\n",
        "director_average_rank = df_drop.groupby([\"director\"])[\"rank\"].mean()\n",
        "director_average_rank"
      ],
      "execution_count": null,
      "outputs": [
        {
          "output_type": "execute_result",
          "data": {
            "text/plain": [
              "director\n",
              "'Philthy' Phil Phillips    5.700000\n",
              "A. (I) Abramov             6.900000\n",
              "A. Bhimsingh               6.971429\n",
              "A. Charles Addessi         4.200000\n",
              "A. Dean Bell               5.333333\n",
              "                             ...   \n",
              "Ørjan Karlsen              8.300000\n",
              "Øyvind Sandberg            8.200000\n",
              "Øyvind Vennerød            5.800000\n",
              "Þorvaldur Kristinsson      7.600000\n",
              "Þráinn Bertelsson          6.266667\n",
              "Name: rank, Length: 22104, dtype: float64"
            ]
          },
          "metadata": {},
          "execution_count": 13
        }
      ]
    },
    {
      "cell_type": "code",
      "source": [
        "#Step 3: use sort_values( ) method to sort out ranking for each director from the highest to the lowest \n",
        "director_highest_rank = df_drop.groupby(\"director\")[[\"rank\"]].mean().sort_values([\"rank\"], ascending=False)\n",
        "print(director_highest_rank.head(10))"
      ],
      "metadata": {
        "colab": {
          "base_uri": "https://localhost:8080/"
        },
        "id": "UK-OyRSALoQJ",
        "outputId": "3941fefb-77a1-4e9c-b8f1-686030d34b93"
      },
      "execution_count": null,
      "outputs": [
        {
          "output_type": "stream",
          "name": "stdout",
          "text": [
            "                    rank\n",
            "director                \n",
            "Kirsten Tretbar      9.9\n",
            "Debs Tarrier         9.9\n",
            "Andrew Cappelletti   9.9\n",
            "Scott Barkan         9.9\n",
            "Matthew Crandall     9.9\n",
            "Gregg Zehentner      9.9\n",
            "Arünas Zebriünas     9.9\n",
            "Zack Resnicoff       9.9\n",
            "Luke S. Goljan       9.8\n",
            "Rubén Gámez          9.8\n"
          ]
        }
      ]
    },
    {
      "cell_type": "markdown",
      "source": [
        "From the above directors we can see that eight directos have a rating of point 9.9 which is highest rating per moive in this dataset.\n",
        "\n",
        "Reference link: https://www.analyticsvidhya.com/blog/2021/05/a-comprehensive-guide-to-data-analysis-using-pandas-hands-on-data-analysis-on-imdb-movies-data/\n"
      ],
      "metadata": {
        "id": "idWogXH1pZVw"
      }
    },
    {
      "cell_type": "code",
      "source": [
        "df_drop[\"rank\"].value_counts()"
      ],
      "metadata": {
        "colab": {
          "base_uri": "https://localhost:8080/"
        },
        "id": "kcj35UzK-wXj",
        "outputId": "3e4dbb82-d13c-489f-bab8-2b0567403bef"
      },
      "execution_count": null,
      "outputs": [
        {
          "output_type": "execute_result",
          "data": {
            "text/plain": [
              "6.6    3364\n",
              "6.2    3333\n",
              "6.5    3201\n",
              "6.4    3179\n",
              "6.3    3109\n",
              "       ... \n",
              "9.7      87\n",
              "1.3      61\n",
              "9.9      55\n",
              "1.1      51\n",
              "1.2      36\n",
              "Name: rank, Length: 90, dtype: int64"
            ]
          },
          "metadata": {},
          "execution_count": 15
        }
      ]
    },
    {
      "cell_type": "code",
      "source": [
        "df_drop[\"year\"].value_counts()"
      ],
      "metadata": {
        "colab": {
          "base_uri": "https://localhost:8080/"
        },
        "id": "GySXljWXihCa",
        "outputId": "bfd6c1e5-3940-42d6-853d-06d007b77149"
      },
      "execution_count": null,
      "outputs": [
        {
          "output_type": "execute_result",
          "data": {
            "text/plain": [
              "2002    4846\n",
              "2001    4567\n",
              "2003    4483\n",
              "2000    4392\n",
              "1999    3810\n",
              "        ... \n",
              "1899      13\n",
              "1902      11\n",
              "1892      10\n",
              "1894       5\n",
              "1893       1\n",
              "Name: year, Length: 113, dtype: int64"
            ]
          },
          "metadata": {},
          "execution_count": 16
        }
      ]
    },
    {
      "cell_type": "markdown",
      "source": [
        "value_counts() is a quick but effective way of checking what values your variable takes. Here we see quickly that the rating score 9.9 was given 55 times!"
      ],
      "metadata": {
        "id": "Rc17Qjw7-1Xg"
      }
    },
    {
      "cell_type": "markdown",
      "metadata": {
        "id": "naiCl5kCQvS-"
      },
      "source": [
        "### How many movies have ranks of over 9?\n",
        "\n",
        "---\n"
      ]
    },
    {
      "cell_type": "code",
      "source": [
        "#Count rows where column is equal to a value:\n",
        "movies_counts = director_highest_rank[director_highest_rank[\"rank\"] > 9.0]\n",
        "print(movies_counts)"
      ],
      "metadata": {
        "colab": {
          "base_uri": "https://localhost:8080/"
        },
        "id": "tXKLVTreuaQv",
        "outputId": "7c40a5fd-f6a9-4cfd-dce2-89845ccedbac"
      },
      "execution_count": null,
      "outputs": [
        {
          "output_type": "stream",
          "name": "stdout",
          "text": [
            "                      rank\n",
            "director                  \n",
            "Kirsten Tretbar      9.900\n",
            "Debs Tarrier         9.900\n",
            "Andrew Cappelletti   9.900\n",
            "Scott Barkan         9.900\n",
            "Matthew Crandall     9.900\n",
            "...                    ...\n",
            "Dinu Cocea           9.050\n",
            "Guy Hocquenghem      9.050\n",
            "Virgil Calotescu     9.050\n",
            "Nikolaus Geyrhalter  9.050\n",
            "Goran Gajic          9.025\n",
            "\n",
            "[379 rows x 1 columns]\n"
          ]
        }
      ]
    },
    {
      "cell_type": "markdown",
      "metadata": {
        "id": "qSM1LAZGQ32W"
      },
      "source": [
        "### Plot a bar chart of mean rank and genre\n",
        "---"
      ]
    },
    {
      "cell_type": "code",
      "source": [
        "data = df_drop.groupby([\"genre\"])[\"rank\"].mean()\n",
        "data\n",
        "labels = [\"Drama\", \"Comedy\", \"Short\", \"Action\", \"Romance\", \"Thriller\", \"Family\",\n",
        "       \"Animation\", \"Crime\", \"Documentary\", \"Horror\", \"Adventure\", \"Sci-Fi\",\n",
        "       \"Musical\", \"Western\", \"Fantasy\", \"Mystery\", \"War\", \"Music\",\n",
        "       \"Film-Noir\"]\n",
        "\n",
        "chart = sns.barplot(x = labels, y = data)\n",
        "chart.set_xlabel(\"Genre\") \n",
        "chart.set_ylabel(\"Mean_rank\") \n",
        "chart.set_xticklabels(labels, rotation=90)\n",
        "chart\n"
      ],
      "metadata": {
        "colab": {
          "base_uri": "https://localhost:8080/",
          "height": 357
        },
        "id": "svC3Uue7qWpM",
        "outputId": "4ee36e5f-1b0f-4b95-c669-15099c72e44b"
      },
      "execution_count": null,
      "outputs": [
        {
          "output_type": "execute_result",
          "data": {
            "text/plain": [
              "<matplotlib.axes._subplots.AxesSubplot at 0x7fd64dbe03d0>"
            ]
          },
          "metadata": {},
          "execution_count": 18
        },
        {
          "output_type": "display_data",
          "data": {
            "image/png": "[encoded data removed]",
            "text/plain": [
              "<Figure size 432x288 with 1 Axes>"
            ]
          },
          "metadata": {
            "needs_background": "light"
          }
        }
      ]
    },
    {
      "cell_type": "markdown",
      "metadata": {
        "id": "O6srkKPnRbh_"
      },
      "source": [
        "### Plot a pie chart of how many movies of each genre there are \n",
        "---\n"
      ]
    },
    {
      "cell_type": "code",
      "source": [
        "genres= genre_counts.index\n",
        "data = df_drop.genre.value_counts()\n",
        "labels = data.keys()\n",
        "labels \n",
        "\n",
        "plt.pie(data, labels = labels,autopct='%1.0f%%')\n",
        "plt.xlabel('Genres')      \n",
        "plt.show()"
      ],
      "metadata": {
        "colab": {
          "base_uri": "https://localhost:8080/",
          "height": 262
        },
        "id": "tnfMd29WmbFh",
        "outputId": "603c0576-1e9d-4a65-df3e-51a750c7c2a0"
      },
      "execution_count": null,
      "outputs": [
        {
          "output_type": "display_data",
          "data": {
            "image/png": "[encoded data removed]",
            "text/plain": [
              "<Figure size 432x288 with 1 Axes>"
            ]
          },
          "metadata": {}
        }
      ]
    },
    {
      "cell_type": "markdown",
      "metadata": {
        "id": "Cm9HjL_K6bvo"
      },
      "source": [
        "### Plot a graph showing the mean Rank for each year "
      ]
    },
    {
      "cell_type": "code",
      "source": [
        "data = df_drop.groupby([\"year\"])[\"rank\"].mean()\n",
        "data\n",
        "#labels = df_drop[\"year\"].unique()\n",
        "labels = data.keys()\n",
        "\n",
        "chart = sns.barplot(x = labels, y = data)\n",
        "\n",
        "chart.set_xlabel(\"Year\") \n",
        "chart.set_ylabel(\"Rank\") \n",
        "chart.set_xticklabels(labels)\n",
        "chart"
      ],
      "metadata": {
        "colab": {
          "base_uri": "https://localhost:8080/",
          "height": 296
        },
        "id": "DenwwQ2kIoV_",
        "outputId": "64908e0f-27f3-4786-b586-348a4dc540da"
      },
      "execution_count": null,
      "outputs": [
        {
          "output_type": "execute_result",
          "data": {
            "text/plain": [
              "<matplotlib.axes._subplots.AxesSubplot at 0x7fd64acee3d0>"
            ]
          },
          "metadata": {},
          "execution_count": 20
        },
        {
          "output_type": "display_data",
          "data": {
            "image/png": "[encoded data removed]",
            "text/plain": [
              "<Figure size 432x288 with 1 Axes>"
            ]
          },
          "metadata": {
            "needs_background": "light"
          }
        }
      ]
    },
    {
      "cell_type": "markdown",
      "metadata": {
        "id": "FvzMjQ5X6oeU"
      },
      "source": [
        "### What else can you find out from this dataset?\n",
        "---\n",
        "Make a plan of 3 further things you can do to interrogate and analyse this dataset"
      ]
    },
    {
      "cell_type": "markdown",
      "metadata": {
        "id": "a46YOmLd64zb"
      },
      "source": [
        "Type your answer here  \n",
        "\n",
        "\n",
        "1.  Check if there are multiple movies with the same name, and if so, determine if they are actually duplicates.\n",
        "2. visual representation of the rank by using describle() method and creating a histogram chart. The hist() and describe() methods are in fact quite similar: One gives text output and the other gives its visual representation.\n",
        "2.  **Check for Correlation** want to see whether two columns of a dataset are connected. create a scatter plot with those two columns: "
      ]
    },
    {
      "cell_type": "markdown",
      "metadata": {
        "id": "es_Uyz_f6-1F"
      },
      "source": [
        "### Complete the tasks you have set out in the exercise above. \n",
        "---\n"
      ]
    },
    {
      "cell_type": "code",
      "source": [
        "df_drop.name.duplicated().sum()"
      ],
      "metadata": {
        "colab": {
          "base_uri": "https://localhost:8080/"
        },
        "id": "JCgrBGNeVr24",
        "outputId": "b081aebc-f349-4291-d4dd-d2c031afd37f"
      },
      "execution_count": null,
      "outputs": [
        {
          "output_type": "execute_result",
          "data": {
            "text/plain": [
              "57422"
            ]
          },
          "metadata": {},
          "execution_count": 21
        }
      ]
    },
    {
      "cell_type": "code",
      "source": [
        "df_drop.duplicated().sum"
      ],
      "metadata": {
        "colab": {
          "base_uri": "https://localhost:8080/"
        },
        "id": "TbL-DKJ-WU7y",
        "outputId": "3a21314a-3eff-48c5-c427-73a581e26960"
      },
      "execution_count": null,
      "outputs": [
        {
          "output_type": "execute_result",
          "data": {
            "text/plain": [
              "<bound method NDFrame._add_numeric_operations.<locals>.sum of 77        False\n",
              "78        False\n",
              "79        False\n",
              "80        False\n",
              "81        False\n",
              "          ...  \n",
              "368837    False\n",
              "368838    False\n",
              "368861    False\n",
              "368862    False\n",
              "368891    False\n",
              "Length: 113376, dtype: bool>"
            ]
          },
          "metadata": {},
          "execution_count": 22
        }
      ]
    },
    {
      "cell_type": "code",
      "source": [
        "df_drop.loc[df_drop.duplicated(keep = False), :]"
      ],
      "metadata": {
        "colab": {
          "base_uri": "https://localhost:8080/",
          "height": 49
        },
        "id": "csvRNBB9Wdql",
        "outputId": "07707986-be3c-4f7a-b056-2bd450ed7066"
      },
      "execution_count": null,
      "outputs": [
        {
          "output_type": "execute_result",
          "data": {
            "text/html": [
              "\n",
              "  <div id=\"df-cdf8f767-2d7f-4155-a713-0584a64b580d\">\n",
              "    <div class=\"colab-df-container\">\n",
              "      <div>\n",
              "<style scoped>\n",
              "    .dataframe tbody tr th:only-of-type {\n",
              "        vertical-align: middle;\n",
              "    }\n",
              "\n",
              "    .dataframe tbody tr th {\n",
              "        vertical-align: top;\n",
              "    }\n",
              "\n",
              "    .dataframe thead th {\n",
              "        text-align: right;\n",
              "    }\n",
              "</style>\n",
              "<table border=\"1\" class=\"dataframe\">\n",
              "  <thead>\n",
              "    <tr style=\"text-align: right;\">\n",
              "      <th></th>\n",
              "      <th>Unnamed: 0</th>\n",
              "      <th>first_name</th>\n",
              "      <th>last_name</th>\n",
              "      <th>name</th>\n",
              "      <th>year</th>\n",
              "      <th>rank</th>\n",
              "      <th>genre</th>\n",
              "      <th>director</th>\n",
              "    </tr>\n",
              "  </thead>\n",
              "  <tbody>\n",
              "  </tbody>\n",
              "</table>\n",
              "</div>\n",
              "      <button class=\"colab-df-convert\" onclick=\"convertToInteractive('df-cdf8f767-2d7f-4155-a713-0584a64b580d')\"\n",
              "              title=\"Convert this dataframe to an interactive table.\"\n",
              "              style=\"display:none;\">\n",
              "        \n",
              "  <svg xmlns=\"http://www.w3.org/2000/svg\" height=\"24px\"viewBox=\"0 0 24 24\"\n",
              "       width=\"24px\">\n",
              "    <path d=\"M0 0h24v24H0V0z\" fill=\"none\"/>\n",
              "    <path d=\"M18.56 5.44l.94 2.06.94-2.06 2.06-.94-2.06-.94-.94-2.06-.94 2.06-2.06.94zm-11 1L8.5 8.5l.94-2.06 2.06-.94-2.06-.94L8.5 2.5l-.94 2.06-2.06.94zm10 10l.94 2.06.94-2.06 2.06-.94-2.06-.94-.94-2.06-.94 2.06-2.06.94z\"/><path d=\"M17.41 7.96l-1.37-1.37c-.4-.4-.92-.59-1.43-.59-.52 0-1.04.2-1.43.59L10.3 9.45l-7.72 7.72c-.78.78-.78 2.05 0 2.83L4 21.41c.39.39.9.59 1.41.59.51 0 1.02-.2 1.41-.59l7.78-7.78 2.81-2.81c.8-.78.8-2.07 0-2.86zM5.41 20L4 18.59l7.72-7.72 1.47 1.35L5.41 20z\"/>\n",
              "  </svg>\n",
              "      </button>\n",
              "      \n",
              "  <style>\n",
              "    .colab-df-container {\n",
              "      display:flex;\n",
              "      flex-wrap:wrap;\n",
              "      gap: 12px;\n",
              "    }\n",
              "\n",
              "    .colab-df-convert {\n",
              "      background-color: #E8F0FE;\n",
              "      border: none;\n",
              "      border-radius: 50%;\n",
              "      cursor: pointer;\n",
              "      display: none;\n",
              "      fill: #1967D2;\n",
              "      height: 32px;\n",
              "      padding: 0 0 0 0;\n",
              "      width: 32px;\n",
              "    }\n",
              "\n",
              "    .colab-df-convert:hover {\n",
              "      background-color: #E2EBFA;\n",
              "      box-shadow: 0px 1px 2px rgba(60, 64, 67, 0.3), 0px 1px 3px 1px rgba(60, 64, 67, 0.15);\n",
              "      fill: #174EA6;\n",
              "    }\n",
              "\n",
              "    [theme=dark] .colab-df-convert {\n",
              "      background-color: #3B4455;\n",
              "      fill: #D2E3FC;\n",
              "    }\n",
              "\n",
              "    [theme=dark] .colab-df-convert:hover {\n",
              "      background-color: #434B5C;\n",
              "      box-shadow: 0px 1px 3px 1px rgba(0, 0, 0, 0.15);\n",
              "      filter: drop-shadow(0px 1px 2px rgba(0, 0, 0, 0.3));\n",
              "      fill: #FFFFFF;\n",
              "    }\n",
              "  </style>\n",
              "\n",
              "      <script>\n",
              "        const buttonEl =\n",
              "          document.querySelector('#df-cdf8f767-2d7f-4155-a713-0584a64b580d button.colab-df-convert');\n",
              "        buttonEl.style.display =\n",
              "          google.colab.kernel.accessAllowed ? 'block' : 'none';\n",
              "\n",
              "        async function convertToInteractive(key) {\n",
              "          const element = document.querySelector('#df-cdf8f767-2d7f-4155-a713-0584a64b580d');\n",
              "          const dataTable =\n",
              "            await google.colab.kernel.invokeFunction('convertToInteractive',\n",
              "                                                     [key], {});\n",
              "          if (!dataTable) return;\n",
              "\n",
              "          const docLinkHtml = 'Like what you see? Visit the ' +\n",
              "            '<a target=\"_blank\" href=https://colab.research.google.com/notebooks/data_table.ipynb>data table notebook</a>'\n",
              "            + ' to learn more about interactive tables.';\n",
              "          element.innerHTML = '';\n",
              "          dataTable['output_type'] = 'display_data';\n",
              "          await google.colab.output.renderOutput(dataTable, element);\n",
              "          const docLink = document.createElement('div');\n",
              "          docLink.innerHTML = docLinkHtml;\n",
              "          element.appendChild(docLink);\n",
              "        }\n",
              "      </script>\n",
              "    </div>\n",
              "  </div>\n",
              "  "
            ],
            "text/plain": [
              "Empty DataFrame\n",
              "Columns: [Unnamed: 0, first_name, last_name, name, year, rank, genre, director]\n",
              "Index: []"
            ]
          },
          "metadata": {},
          "execution_count": 23
        }
      ]
    },
    {
      "cell_type": "code",
      "metadata": {
        "id": "GY-HzjZb7L5q",
        "colab": {
          "base_uri": "https://localhost:8080/",
          "height": 424
        },
        "outputId": "7ba55bde-035c-4091-80c1-04b811f63ead"
      },
      "source": [
        "# 1. check if there are multiple movies with the same name, and if so, determine if they are actually duplicates\n",
        "dupe_name = df_drop[df_drop.name.duplicated()].name\n",
        "df_drop[df_drop.name.isin(dupe_name)]"
      ],
      "execution_count": null,
      "outputs": [
        {
          "output_type": "execute_result",
          "data": {
            "text/html": [
              "\n",
              "  <div id=\"df-9c837f57-7159-4958-8e5b-f26a61a97af7\">\n",
              "    <div class=\"colab-df-container\">\n",
              "      <div>\n",
              "<style scoped>\n",
              "    .dataframe tbody tr th:only-of-type {\n",
              "        vertical-align: middle;\n",
              "    }\n",
              "\n",
              "    .dataframe tbody tr th {\n",
              "        vertical-align: top;\n",
              "    }\n",
              "\n",
              "    .dataframe thead th {\n",
              "        text-align: right;\n",
              "    }\n",
              "</style>\n",
              "<table border=\"1\" class=\"dataframe\">\n",
              "  <thead>\n",
              "    <tr style=\"text-align: right;\">\n",
              "      <th></th>\n",
              "      <th>Unnamed: 0</th>\n",
              "      <th>first_name</th>\n",
              "      <th>last_name</th>\n",
              "      <th>name</th>\n",
              "      <th>year</th>\n",
              "      <th>rank</th>\n",
              "      <th>genre</th>\n",
              "      <th>director</th>\n",
              "    </tr>\n",
              "  </thead>\n",
              "  <tbody>\n",
              "    <tr>\n",
              "      <th>79</th>\n",
              "      <td>79</td>\n",
              "      <td>Veikko</td>\n",
              "      <td>Aaltonen</td>\n",
              "      <td>Juoksuhaudantie</td>\n",
              "      <td>2004</td>\n",
              "      <td>6.3</td>\n",
              "      <td>Comedy</td>\n",
              "      <td>Veikko Aaltonen</td>\n",
              "    </tr>\n",
              "    <tr>\n",
              "      <th>80</th>\n",
              "      <td>80</td>\n",
              "      <td>Veikko</td>\n",
              "      <td>Aaltonen</td>\n",
              "      <td>Juoksuhaudantie</td>\n",
              "      <td>2004</td>\n",
              "      <td>6.3</td>\n",
              "      <td>Drama</td>\n",
              "      <td>Veikko Aaltonen</td>\n",
              "    </tr>\n",
              "    <tr>\n",
              "      <th>82</th>\n",
              "      <td>82</td>\n",
              "      <td>Veikko</td>\n",
              "      <td>Aaltonen</td>\n",
              "      <td>Merisairas</td>\n",
              "      <td>1996</td>\n",
              "      <td>4.3</td>\n",
              "      <td>Drama</td>\n",
              "      <td>Veikko Aaltonen</td>\n",
              "    </tr>\n",
              "    <tr>\n",
              "      <th>83</th>\n",
              "      <td>83</td>\n",
              "      <td>Veikko</td>\n",
              "      <td>Aaltonen</td>\n",
              "      <td>Merisairas</td>\n",
              "      <td>1996</td>\n",
              "      <td>4.3</td>\n",
              "      <td>Thriller</td>\n",
              "      <td>Veikko Aaltonen</td>\n",
              "    </tr>\n",
              "    <tr>\n",
              "      <th>84</th>\n",
              "      <td>84</td>\n",
              "      <td>Veikko</td>\n",
              "      <td>Aaltonen</td>\n",
              "      <td>Rakkaudella, Maire</td>\n",
              "      <td>1999</td>\n",
              "      <td>6.9</td>\n",
              "      <td>Drama</td>\n",
              "      <td>Veikko Aaltonen</td>\n",
              "    </tr>\n",
              "    <tr>\n",
              "      <th>...</th>\n",
              "      <td>...</td>\n",
              "      <td>...</td>\n",
              "      <td>...</td>\n",
              "      <td>...</td>\n",
              "      <td>...</td>\n",
              "      <td>...</td>\n",
              "      <td>...</td>\n",
              "      <td>...</td>\n",
              "    </tr>\n",
              "    <tr>\n",
              "      <th>368833</th>\n",
              "      <td>368833</td>\n",
              "      <td>Memduh</td>\n",
              "      <td>Ün</td>\n",
              "      <td>Devlet Kusu</td>\n",
              "      <td>1980</td>\n",
              "      <td>7.2</td>\n",
              "      <td>Drama</td>\n",
              "      <td>Memduh Ün</td>\n",
              "    </tr>\n",
              "    <tr>\n",
              "      <th>368837</th>\n",
              "      <td>368837</td>\n",
              "      <td>Memduh</td>\n",
              "      <td>Ün</td>\n",
              "      <td>Garip</td>\n",
              "      <td>1986</td>\n",
              "      <td>7.9</td>\n",
              "      <td>Comedy</td>\n",
              "      <td>Memduh Ün</td>\n",
              "    </tr>\n",
              "    <tr>\n",
              "      <th>368838</th>\n",
              "      <td>368838</td>\n",
              "      <td>Memduh</td>\n",
              "      <td>Ün</td>\n",
              "      <td>Garip</td>\n",
              "      <td>1986</td>\n",
              "      <td>7.9</td>\n",
              "      <td>Drama</td>\n",
              "      <td>Memduh Ün</td>\n",
              "    </tr>\n",
              "    <tr>\n",
              "      <th>368861</th>\n",
              "      <td>368861</td>\n",
              "      <td>Memduh</td>\n",
              "      <td>Ün</td>\n",
              "      <td>Sezercik aslan parcasi</td>\n",
              "      <td>1972</td>\n",
              "      <td>6.0</td>\n",
              "      <td>Drama</td>\n",
              "      <td>Memduh Ün</td>\n",
              "    </tr>\n",
              "    <tr>\n",
              "      <th>368862</th>\n",
              "      <td>368862</td>\n",
              "      <td>Memduh</td>\n",
              "      <td>Ün</td>\n",
              "      <td>Sezercik aslan parcasi</td>\n",
              "      <td>1972</td>\n",
              "      <td>6.0</td>\n",
              "      <td>Romance</td>\n",
              "      <td>Memduh Ün</td>\n",
              "    </tr>\n",
              "  </tbody>\n",
              "</table>\n",
              "<p>87669 rows × 8 columns</p>\n",
              "</div>\n",
              "      <button class=\"colab-df-convert\" onclick=\"convertToInteractive('df-9c837f57-7159-4958-8e5b-f26a61a97af7')\"\n",
              "              title=\"Convert this dataframe to an interactive table.\"\n",
              "              style=\"display:none;\">\n",
              "        \n",
              "  <svg xmlns=\"http://www.w3.org/2000/svg\" height=\"24px\"viewBox=\"0 0 24 24\"\n",
              "       width=\"24px\">\n",
              "    <path d=\"M0 0h24v24H0V0z\" fill=\"none\"/>\n",
              "    <path d=\"M18.56 5.44l.94 2.06.94-2.06 2.06-.94-2.06-.94-.94-2.06-.94 2.06-2.06.94zm-11 1L8.5 8.5l.94-2.06 2.06-.94-2.06-.94L8.5 2.5l-.94 2.06-2.06.94zm10 10l.94 2.06.94-2.06 2.06-.94-2.06-.94-.94-2.06-.94 2.06-2.06.94z\"/><path d=\"M17.41 7.96l-1.37-1.37c-.4-.4-.92-.59-1.43-.59-.52 0-1.04.2-1.43.59L10.3 9.45l-7.72 7.72c-.78.78-.78 2.05 0 2.83L4 21.41c.39.39.9.59 1.41.59.51 0 1.02-.2 1.41-.59l7.78-7.78 2.81-2.81c.8-.78.8-2.07 0-2.86zM5.41 20L4 18.59l7.72-7.72 1.47 1.35L5.41 20z\"/>\n",
              "  </svg>\n",
              "      </button>\n",
              "      \n",
              "  <style>\n",
              "    .colab-df-container {\n",
              "      display:flex;\n",
              "      flex-wrap:wrap;\n",
              "      gap: 12px;\n",
              "    }\n",
              "\n",
              "    .colab-df-convert {\n",
              "      background-color: #E8F0FE;\n",
              "      border: none;\n",
              "      border-radius: 50%;\n",
              "      cursor: pointer;\n",
              "      display: none;\n",
              "      fill: #1967D2;\n",
              "      height: 32px;\n",
              "      padding: 0 0 0 0;\n",
              "      width: 32px;\n",
              "    }\n",
              "\n",
              "    .colab-df-convert:hover {\n",
              "      background-color: #E2EBFA;\n",
              "      box-shadow: 0px 1px 2px rgba(60, 64, 67, 0.3), 0px 1px 3px 1px rgba(60, 64, 67, 0.15);\n",
              "      fill: #174EA6;\n",
              "    }\n",
              "\n",
              "    [theme=dark] .colab-df-convert {\n",
              "      background-color: #3B4455;\n",
              "      fill: #D2E3FC;\n",
              "    }\n",
              "\n",
              "    [theme=dark] .colab-df-convert:hover {\n",
              "      background-color: #434B5C;\n",
              "      box-shadow: 0px 1px 3px 1px rgba(0, 0, 0, 0.15);\n",
              "      filter: drop-shadow(0px 1px 2px rgba(0, 0, 0, 0.3));\n",
              "      fill: #FFFFFF;\n",
              "    }\n",
              "  </style>\n",
              "\n",
              "      <script>\n",
              "        const buttonEl =\n",
              "          document.querySelector('#df-9c837f57-7159-4958-8e5b-f26a61a97af7 button.colab-df-convert');\n",
              "        buttonEl.style.display =\n",
              "          google.colab.kernel.accessAllowed ? 'block' : 'none';\n",
              "\n",
              "        async function convertToInteractive(key) {\n",
              "          const element = document.querySelector('#df-9c837f57-7159-4958-8e5b-f26a61a97af7');\n",
              "          const dataTable =\n",
              "            await google.colab.kernel.invokeFunction('convertToInteractive',\n",
              "                                                     [key], {});\n",
              "          if (!dataTable) return;\n",
              "\n",
              "          const docLinkHtml = 'Like what you see? Visit the ' +\n",
              "            '<a target=\"_blank\" href=https://colab.research.google.com/notebooks/data_table.ipynb>data table notebook</a>'\n",
              "            + ' to learn more about interactive tables.';\n",
              "          element.innerHTML = '';\n",
              "          dataTable['output_type'] = 'display_data';\n",
              "          await google.colab.output.renderOutput(dataTable, element);\n",
              "          const docLink = document.createElement('div');\n",
              "          docLink.innerHTML = docLinkHtml;\n",
              "          element.appendChild(docLink);\n",
              "        }\n",
              "      </script>\n",
              "    </div>\n",
              "  </div>\n",
              "  "
            ],
            "text/plain": [
              "        Unnamed: 0 first_name last_name  ... rank     genre         director\n",
              "79              79     Veikko  Aaltonen  ...  6.3    Comedy  Veikko Aaltonen\n",
              "80              80     Veikko  Aaltonen  ...  6.3     Drama  Veikko Aaltonen\n",
              "82              82     Veikko  Aaltonen  ...  4.3     Drama  Veikko Aaltonen\n",
              "83              83     Veikko  Aaltonen  ...  4.3  Thriller  Veikko Aaltonen\n",
              "84              84     Veikko  Aaltonen  ...  6.9     Drama  Veikko Aaltonen\n",
              "...            ...        ...       ...  ...  ...       ...              ...\n",
              "368833      368833     Memduh        Ün  ...  7.2     Drama        Memduh Ün\n",
              "368837      368837     Memduh        Ün  ...  7.9    Comedy        Memduh Ün\n",
              "368838      368838     Memduh        Ün  ...  7.9     Drama        Memduh Ün\n",
              "368861      368861     Memduh        Ün  ...  6.0     Drama        Memduh Ün\n",
              "368862      368862     Memduh        Ün  ...  6.0   Romance        Memduh Ün\n",
              "\n",
              "[87669 rows x 8 columns]"
            ]
          },
          "metadata": {},
          "execution_count": 24
        }
      ]
    },
    {
      "cell_type": "markdown",
      "source": [
        "From the above result there are movies with the same name, however, they are under the different in genre, the condition for dropping duplicates it will be based on what is the purpose of using the dataset. "
      ],
      "metadata": {
        "id": "7nEFFG1TndO9"
      }
    },
    {
      "cell_type": "code",
      "source": [
        "# 2. visual representation of the rank by using describle() method and creating a histogram chart.\n",
        "movies[\"rank\"].describe()\n"
      ],
      "metadata": {
        "colab": {
          "base_uri": "https://localhost:8080/"
        },
        "id": "4pCRsvw3AmIb",
        "outputId": "a70b927c-4958-48f6-9f05-d95322421fd7"
      },
      "execution_count": null,
      "outputs": [
        {
          "output_type": "execute_result",
          "data": {
            "text/plain": [
              "count    113376.000000\n",
              "mean          5.995124\n",
              "std           1.540330\n",
              "min           1.000000\n",
              "25%           5.100000\n",
              "50%           6.200000\n",
              "75%           7.100000\n",
              "max           9.900000\n",
              "Name: rank, dtype: float64"
            ]
          },
          "metadata": {},
          "execution_count": 25
        }
      ]
    },
    {
      "cell_type": "markdown",
      "source": [
        "Describle() method will display basic statisitics about rank colunms for instance in this case. From above the result it may also be able to conclude that the rating is slightly left-skewed by looking only at the text output of the .describe() method. The relevant data for this conclusion are:\n",
        "\n",
        "- The mean is slightly smaller than the median and\n",
        "- 25% of the data covers only until a rating of 5.1\n"
      ],
      "metadata": {
        "id": "YkwM3tQBBvSL"
      }
    },
    {
      "cell_type": "code",
      "source": [
        "df_drop['rank'].hist(bins=10)"
      ],
      "metadata": {
        "colab": {
          "base_uri": "https://localhost:8080/",
          "height": 282
        },
        "id": "BruRuc5Y_keh",
        "outputId": "a4928841-7dfb-44a6-d46e-dabf92c4af29"
      },
      "execution_count": null,
      "outputs": [
        {
          "output_type": "execute_result",
          "data": {
            "text/plain": [
              "<matplotlib.axes._subplots.AxesSubplot at 0x7fd64a829410>"
            ]
          },
          "metadata": {},
          "execution_count": 26
        },
        {
          "output_type": "display_data",
          "data": {
            "image/png": "[encoded data removed]",
            "text/plain": [
              "<Figure size 432x288 with 1 Axes>"
            ]
          },
          "metadata": {
            "needs_background": "light"
          }
        }
      ]
    },
    {
      "cell_type": "markdown",
      "metadata": {
        "id": "pQV2NO8umBSk"
      },
      "source": [
        "# Reflection\n",
        "----\n",
        "\n",
        "## What skills have you demonstrated in completing this notebook?"
      ]
    },
    {
      "cell_type": "markdown",
      "metadata": {
        "id": "NUVvt2r0mCKq"
      },
      "source": [
        "*Your* answer: Inspected and cleaned the data, applied the stastisitics and charts for analisying the data.  "
      ]
    },
    {
      "cell_type": "markdown",
      "metadata": {
        "id": "SOrbWOuFmObq"
      },
      "source": [
        "## What caused you the most difficulty?"
      ]
    },
    {
      "cell_type": "markdown",
      "metadata": {
        "id": "G_eGng1GmO78"
      },
      "source": [
        "Your answers: By understanding some of the questions but asked Lila and understood this was an open mini project which was allowed us to do our own free style. I really enjoyed work throguh with this mini project.Found that  Pandas is a very useful and powerful tool.  "
      ]
    }
  ]
}